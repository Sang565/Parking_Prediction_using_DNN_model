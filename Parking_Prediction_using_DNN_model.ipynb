{
  "nbformat": 4,
  "nbformat_minor": 0,
  "metadata": {
    "kernelspec": {
      "name": "python3",
      "display_name": "Python 3"
    },
    "colab": {
      "name": "Parking_Prediction_using_DNN_model.ipynb",
      "provenance": [],
      "toc_visible": true,
      "include_colab_link": true
    },
    "accelerator": "GPU"
  },
  "cells": [
    {
      "cell_type": "markdown",
      "metadata": {
        "id": "view-in-github",
        "colab_type": "text"
      },
      "source": [
        "<a href=\"https://colab.research.google.com/github/Sang565/Parking_Prediction_using_DNN_model/blob/main/Parking_Prediction_using_DNN_model.ipynb\" target=\"_parent\"><img src=\"https://colab.research.google.com/assets/colab-badge.svg\" alt=\"Open In Colab\"/></a>"
      ]
    },
    {
      "cell_type": "markdown",
      "metadata": {
        "id": "__AVSaLzW5ds"
      },
      "source": [
        "# Parking_Prediction_using_DNN_model\r\n"
      ]
    },
    {
      "cell_type": "markdown",
      "metadata": {
        "id": "20Bcc7exllQJ"
      },
      "source": [
        "# Import Libraries"
      ]
    },
    {
      "cell_type": "code",
      "metadata": {
        "trusted": true,
        "id": "9sNsHRd0Q4G7"
      },
      "source": [
        "import pandas as pd\n",
        "import matplotlib as mpl\n",
        "import matplotlib.pyplot as plt\n",
        "from sklearn.model_selection import train_test_split\n",
        "from sklearn.preprocessing import MinMaxScaler, StandardScaler\n",
        "                                                            \n",
        "from tensorflow.python.keras.preprocessing.sequence import TimeseriesGenerator  #must use this one for training with TimeSeriesGenerator \n",
        "import tensorflow as tf \n",
        "from tensorflow import keras\n",
        "from tensorflow.keras import layers"
      ],
      "execution_count": null,
      "outputs": []
    },
    {
      "cell_type": "markdown",
      "metadata": {
        "id": "tVAiUq7uXLKD"
      },
      "source": [
        "# Read input dataset\r\n"
      ]
    },
    {
      "cell_type": "code",
      "metadata": {
        "trusted": true,
        "scrolled": true,
        "id": "XW0NTWuqQ4HC",
        "colab": {
          "base_uri": "https://localhost:8080/",
          "height": 195
        },
        "outputId": "00f2d414-2ee4-4c37-815f-19829f163a72"
      },
      "source": [
        "# Read Data\n",
        "df = pd.read_csv('https://archive.org/download/simulated-parking-datasets/dataset-20200501_20200731.csv')\n",
        "\n",
        "df.head()"
      ],
      "execution_count": null,
      "outputs": [
        {
          "output_type": "execute_result",
          "data": {
            "text/html": [
              "<div>\n",
              "<style scoped>\n",
              "    .dataframe tbody tr th:only-of-type {\n",
              "        vertical-align: middle;\n",
              "    }\n",
              "\n",
              "    .dataframe tbody tr th {\n",
              "        vertical-align: top;\n",
              "    }\n",
              "\n",
              "    .dataframe thead th {\n",
              "        text-align: right;\n",
              "    }\n",
              "</style>\n",
              "<table border=\"1\" class=\"dataframe\">\n",
              "  <thead>\n",
              "    <tr style=\"text-align: right;\">\n",
              "      <th></th>\n",
              "      <th>LastUpdated</th>\n",
              "      <th>SystemCodeNumber</th>\n",
              "      <th>Occupancy</th>\n",
              "    </tr>\n",
              "  </thead>\n",
              "  <tbody>\n",
              "    <tr>\n",
              "      <th>0</th>\n",
              "      <td>2020-05-01T00:00:15.000+12:00</td>\n",
              "      <td>1</td>\n",
              "      <td>102</td>\n",
              "    </tr>\n",
              "    <tr>\n",
              "      <th>1</th>\n",
              "      <td>2020-05-01T00:00:15.000+12:00</td>\n",
              "      <td>2</td>\n",
              "      <td>188</td>\n",
              "    </tr>\n",
              "    <tr>\n",
              "      <th>2</th>\n",
              "      <td>2020-05-01T00:01:15.000+12:00</td>\n",
              "      <td>1</td>\n",
              "      <td>108</td>\n",
              "    </tr>\n",
              "    <tr>\n",
              "      <th>3</th>\n",
              "      <td>2020-05-01T00:01:15.000+12:00</td>\n",
              "      <td>2</td>\n",
              "      <td>165</td>\n",
              "    </tr>\n",
              "    <tr>\n",
              "      <th>4</th>\n",
              "      <td>2020-05-01T00:02:15.000+12:00</td>\n",
              "      <td>1</td>\n",
              "      <td>106</td>\n",
              "    </tr>\n",
              "  </tbody>\n",
              "</table>\n",
              "</div>"
            ],
            "text/plain": [
              "                     LastUpdated  SystemCodeNumber  Occupancy\n",
              "0  2020-05-01T00:00:15.000+12:00                 1        102\n",
              "1  2020-05-01T00:00:15.000+12:00                 2        188\n",
              "2  2020-05-01T00:01:15.000+12:00                 1        108\n",
              "3  2020-05-01T00:01:15.000+12:00                 2        165\n",
              "4  2020-05-01T00:02:15.000+12:00                 1        106"
            ]
          },
          "metadata": {
            "tags": []
          },
          "execution_count": 2
        }
      ]
    },
    {
      "cell_type": "code",
      "metadata": {
        "colab": {
          "base_uri": "https://localhost:8080/"
        },
        "id": "bsYq9IQhl48-",
        "outputId": "4e1b63df-2a0f-4e3c-b660-8ba39ff97b31"
      },
      "source": [
        "df.info()"
      ],
      "execution_count": null,
      "outputs": [
        {
          "output_type": "stream",
          "text": [
            "<class 'pandas.core.frame.DataFrame'>\n",
            "RangeIndex: 243104 entries, 0 to 243103\n",
            "Data columns (total 3 columns):\n",
            " #   Column            Non-Null Count   Dtype \n",
            "---  ------            --------------   ----- \n",
            " 0   LastUpdated       243104 non-null  object\n",
            " 1   SystemCodeNumber  243104 non-null  int64 \n",
            " 2   Occupancy         243104 non-null  int64 \n",
            "dtypes: int64(2), object(1)\n",
            "memory usage: 5.6+ MB\n"
          ],
          "name": "stdout"
        }
      ]
    },
    {
      "cell_type": "code",
      "metadata": {
        "colab": {
          "base_uri": "https://localhost:8080/"
        },
        "id": "thRjbgfbl__3",
        "outputId": "2f1daf96-df7f-4f6d-9883-1f01eacb3da0"
      },
      "source": [
        "df.shape"
      ],
      "execution_count": null,
      "outputs": [
        {
          "output_type": "execute_result",
          "data": {
            "text/plain": [
              "(243104, 3)"
            ]
          },
          "metadata": {
            "tags": []
          },
          "execution_count": 4
        }
      ]
    },
    {
      "cell_type": "markdown",
      "metadata": {
        "id": "OnZjXPP7mVtD"
      },
      "source": [
        "Convert date format from object type to datetime64 type to apply training and prediction"
      ]
    },
    {
      "cell_type": "code",
      "metadata": {
        "id": "UsBJZzt4nZdE"
      },
      "source": [
        "# filter to eliminate one timezone (which has less data) for to_datetime() funtion use\r\n",
        "#df[df['LastUpdated'].str.contains('+12:00', regex=False)]"
      ],
      "execution_count": null,
      "outputs": []
    },
    {
      "cell_type": "code",
      "metadata": {
        "id": "9CHCTrIDmUwi"
      },
      "source": [
        "#add column 'date' by converting column 'LastUpdated' into datetime64 format\r\n",
        "df['date'] = pd.to_datetime(df['LastUpdated'], infer_datetime_format=True) "
      ],
      "execution_count": null,
      "outputs": []
    },
    {
      "cell_type": "code",
      "metadata": {
        "colab": {
          "base_uri": "https://localhost:8080/"
        },
        "id": "WtTL4tBenEyh",
        "outputId": "cd2af1d5-98b6-4292-9aec-88d5668cb2f0"
      },
      "source": [
        "df.info()"
      ],
      "execution_count": null,
      "outputs": [
        {
          "output_type": "stream",
          "text": [
            "<class 'pandas.core.frame.DataFrame'>\n",
            "RangeIndex: 243104 entries, 0 to 243103\n",
            "Data columns (total 4 columns):\n",
            " #   Column            Non-Null Count   Dtype                                \n",
            "---  ------            --------------   -----                                \n",
            " 0   LastUpdated       243104 non-null  object                               \n",
            " 1   SystemCodeNumber  243104 non-null  int64                                \n",
            " 2   Occupancy         243104 non-null  int64                                \n",
            " 3   date              243104 non-null  datetime64[ns, pytz.FixedOffset(720)]\n",
            "dtypes: datetime64[ns, pytz.FixedOffset(720)](1), int64(2), object(1)\n",
            "memory usage: 7.4+ MB\n"
          ],
          "name": "stdout"
        }
      ]
    },
    {
      "cell_type": "markdown",
      "metadata": {
        "id": "aLv2tgTxnNvf"
      },
      "source": [
        "**------------ Select a specific CP to do prediction ----------**"
      ]
    },
    {
      "cell_type": "code",
      "metadata": {
        "id": "7E145px5njg_"
      },
      "source": [
        "#df.SystemCodeNumber.head()"
      ],
      "execution_count": null,
      "outputs": []
    },
    {
      "cell_type": "code",
      "metadata": {
        "id": "sku52c2TnJeh"
      },
      "source": [
        "# convert CP_ID column from Int to String\r\n",
        "df['SystemCodeNumber'] = df['SystemCodeNumber'].apply(str)   # https://datatofish.com/integers-to-strings-dataframe/"
      ],
      "execution_count": null,
      "outputs": []
    },
    {
      "cell_type": "code",
      "metadata": {
        "colab": {
          "base_uri": "https://localhost:8080/",
          "height": 402
        },
        "id": "j4f35o2vnljl",
        "outputId": "f52611e4-e87f-4fa9-e70f-5dfdf8a7e695"
      },
      "source": [
        "# Select the target CP --> 2 CPs: 1 and 2 \r\n",
        "df_cp_filtered = df[df['SystemCodeNumber'].str.match('1')]\r\n",
        "\r\n",
        "df_cp_filtered"
      ],
      "execution_count": null,
      "outputs": [
        {
          "output_type": "execute_result",
          "data": {
            "text/html": [
              "<div>\n",
              "<style scoped>\n",
              "    .dataframe tbody tr th:only-of-type {\n",
              "        vertical-align: middle;\n",
              "    }\n",
              "\n",
              "    .dataframe tbody tr th {\n",
              "        vertical-align: top;\n",
              "    }\n",
              "\n",
              "    .dataframe thead th {\n",
              "        text-align: right;\n",
              "    }\n",
              "</style>\n",
              "<table border=\"1\" class=\"dataframe\">\n",
              "  <thead>\n",
              "    <tr style=\"text-align: right;\">\n",
              "      <th></th>\n",
              "      <th>LastUpdated</th>\n",
              "      <th>SystemCodeNumber</th>\n",
              "      <th>Occupancy</th>\n",
              "      <th>date</th>\n",
              "    </tr>\n",
              "  </thead>\n",
              "  <tbody>\n",
              "    <tr>\n",
              "      <th>0</th>\n",
              "      <td>2020-05-01T00:00:15.000+12:00</td>\n",
              "      <td>1</td>\n",
              "      <td>102</td>\n",
              "      <td>2020-05-01 00:00:15+12:00</td>\n",
              "    </tr>\n",
              "    <tr>\n",
              "      <th>2</th>\n",
              "      <td>2020-05-01T00:01:15.000+12:00</td>\n",
              "      <td>1</td>\n",
              "      <td>108</td>\n",
              "      <td>2020-05-01 00:01:15+12:00</td>\n",
              "    </tr>\n",
              "    <tr>\n",
              "      <th>4</th>\n",
              "      <td>2020-05-01T00:02:15.000+12:00</td>\n",
              "      <td>1</td>\n",
              "      <td>106</td>\n",
              "      <td>2020-05-01 00:02:15+12:00</td>\n",
              "    </tr>\n",
              "    <tr>\n",
              "      <th>6</th>\n",
              "      <td>2020-05-01T00:03:15.000+12:00</td>\n",
              "      <td>1</td>\n",
              "      <td>93</td>\n",
              "      <td>2020-05-01 00:03:15+12:00</td>\n",
              "    </tr>\n",
              "    <tr>\n",
              "      <th>8</th>\n",
              "      <td>2020-05-01T00:04:15.000+12:00</td>\n",
              "      <td>1</td>\n",
              "      <td>117</td>\n",
              "      <td>2020-05-01 00:04:15+12:00</td>\n",
              "    </tr>\n",
              "    <tr>\n",
              "      <th>...</th>\n",
              "      <td>...</td>\n",
              "      <td>...</td>\n",
              "      <td>...</td>\n",
              "      <td>...</td>\n",
              "    </tr>\n",
              "    <tr>\n",
              "      <th>243099</th>\n",
              "      <td>2020-07-31T23:55:15.000+12:00</td>\n",
              "      <td>1</td>\n",
              "      <td>101</td>\n",
              "      <td>2020-07-31 23:55:15+12:00</td>\n",
              "    </tr>\n",
              "    <tr>\n",
              "      <th>243100</th>\n",
              "      <td>2020-07-31T23:56:15.000+12:00</td>\n",
              "      <td>1</td>\n",
              "      <td>101</td>\n",
              "      <td>2020-07-31 23:56:15+12:00</td>\n",
              "    </tr>\n",
              "    <tr>\n",
              "      <th>243101</th>\n",
              "      <td>2020-07-31T23:57:15.000+12:00</td>\n",
              "      <td>1</td>\n",
              "      <td>111</td>\n",
              "      <td>2020-07-31 23:57:15+12:00</td>\n",
              "    </tr>\n",
              "    <tr>\n",
              "      <th>243102</th>\n",
              "      <td>2020-07-31T23:58:15.000+12:00</td>\n",
              "      <td>1</td>\n",
              "      <td>100</td>\n",
              "      <td>2020-07-31 23:58:15+12:00</td>\n",
              "    </tr>\n",
              "    <tr>\n",
              "      <th>243103</th>\n",
              "      <td>2020-07-31T23:59:15.000+12:00</td>\n",
              "      <td>1</td>\n",
              "      <td>104</td>\n",
              "      <td>2020-07-31 23:59:15+12:00</td>\n",
              "    </tr>\n",
              "  </tbody>\n",
              "</table>\n",
              "<p>132426 rows × 4 columns</p>\n",
              "</div>"
            ],
            "text/plain": [
              "                          LastUpdated  ...                      date\n",
              "0       2020-05-01T00:00:15.000+12:00  ... 2020-05-01 00:00:15+12:00\n",
              "2       2020-05-01T00:01:15.000+12:00  ... 2020-05-01 00:01:15+12:00\n",
              "4       2020-05-01T00:02:15.000+12:00  ... 2020-05-01 00:02:15+12:00\n",
              "6       2020-05-01T00:03:15.000+12:00  ... 2020-05-01 00:03:15+12:00\n",
              "8       2020-05-01T00:04:15.000+12:00  ... 2020-05-01 00:04:15+12:00\n",
              "...                               ...  ...                       ...\n",
              "243099  2020-07-31T23:55:15.000+12:00  ... 2020-07-31 23:55:15+12:00\n",
              "243100  2020-07-31T23:56:15.000+12:00  ... 2020-07-31 23:56:15+12:00\n",
              "243101  2020-07-31T23:57:15.000+12:00  ... 2020-07-31 23:57:15+12:00\n",
              "243102  2020-07-31T23:58:15.000+12:00  ... 2020-07-31 23:58:15+12:00\n",
              "243103  2020-07-31T23:59:15.000+12:00  ... 2020-07-31 23:59:15+12:00\n",
              "\n",
              "[132426 rows x 4 columns]"
            ]
          },
          "metadata": {
            "tags": []
          },
          "execution_count": 5
        }
      ]
    },
    {
      "cell_type": "code",
      "metadata": {
        "colab": {
          "base_uri": "https://localhost:8080/"
        },
        "id": "cugFUPDLn62w",
        "outputId": "22a55ed3-d266-4bd9-993c-815ec5cc1dbd"
      },
      "source": [
        "df_cp_filtered.info()"
      ],
      "execution_count": null,
      "outputs": [
        {
          "output_type": "stream",
          "text": [
            "<class 'pandas.core.frame.DataFrame'>\n",
            "Int64Index: 132426 entries, 0 to 243103\n",
            "Data columns (total 4 columns):\n",
            " #   Column            Non-Null Count   Dtype                                \n",
            "---  ------            --------------   -----                                \n",
            " 0   LastUpdated       132426 non-null  object                               \n",
            " 1   SystemCodeNumber  132426 non-null  object                               \n",
            " 2   Occupancy         132426 non-null  int64                                \n",
            " 3   date              132426 non-null  datetime64[ns, pytz.FixedOffset(720)]\n",
            "dtypes: datetime64[ns, pytz.FixedOffset(720)](1), int64(1), object(2)\n",
            "memory usage: 5.1+ MB\n"
          ],
          "name": "stdout"
        }
      ]
    },
    {
      "cell_type": "markdown",
      "metadata": {
        "id": "cRxxSWyNoB3S"
      },
      "source": [
        "Set index column and select features"
      ]
    },
    {
      "cell_type": "code",
      "metadata": {
        "colab": {
          "base_uri": "https://localhost:8080/",
          "height": 318
        },
        "id": "A44RSszioA_z",
        "outputId": "04328bb0-3966-49a7-f530-8dc5dbbcc709"
      },
      "source": [
        "# Set index (use date column) and select features and do plotting for viewing\r\n",
        "df_cp_filtered.set_index('date') [['Occupancy']].plot(subplots=True)  # 2 steps: select column works as index,  and plot selected column (not the index column)\r\n"
      ],
      "execution_count": null,
      "outputs": [
        {
          "output_type": "execute_result",
          "data": {
            "text/plain": [
              "array([<matplotlib.axes._subplots.AxesSubplot object at 0x7f705ac009e8>],\n",
              "      dtype=object)"
            ]
          },
          "metadata": {
            "tags": []
          },
          "execution_count": 12
        },
        {
          "output_type": "display_data",
          "data": {
            "image/png": "[encoded data removed]",
            "text/plain": [
              "<Figure size 432x288 with 1 Axes>"
            ]
          },
          "metadata": {
            "tags": [],
            "needs_background": "light"
          }
        }
      ]
    },
    {
      "cell_type": "code",
      "metadata": {
        "colab": {
          "base_uri": "https://localhost:8080/",
          "height": 195
        },
        "id": "zCmXrQuGoRG9",
        "outputId": "4e02b62e-0e2f-4334-8b39-bf7f1fa86228"
      },
      "source": [
        "# Select final input feature ('Occupany')\r\n",
        "df_input = df_cp_filtered[['Occupancy']]  # df_input also use 'date' for index, inherited from df\r\n",
        "df_input.head()"
      ],
      "execution_count": null,
      "outputs": [
        {
          "output_type": "execute_result",
          "data": {
            "text/html": [
              "<div>\n",
              "<style scoped>\n",
              "    .dataframe tbody tr th:only-of-type {\n",
              "        vertical-align: middle;\n",
              "    }\n",
              "\n",
              "    .dataframe tbody tr th {\n",
              "        vertical-align: top;\n",
              "    }\n",
              "\n",
              "    .dataframe thead th {\n",
              "        text-align: right;\n",
              "    }\n",
              "</style>\n",
              "<table border=\"1\" class=\"dataframe\">\n",
              "  <thead>\n",
              "    <tr style=\"text-align: right;\">\n",
              "      <th></th>\n",
              "      <th>Occupancy</th>\n",
              "    </tr>\n",
              "  </thead>\n",
              "  <tbody>\n",
              "    <tr>\n",
              "      <th>0</th>\n",
              "      <td>102</td>\n",
              "    </tr>\n",
              "    <tr>\n",
              "      <th>2</th>\n",
              "      <td>108</td>\n",
              "    </tr>\n",
              "    <tr>\n",
              "      <th>4</th>\n",
              "      <td>106</td>\n",
              "    </tr>\n",
              "    <tr>\n",
              "      <th>6</th>\n",
              "      <td>93</td>\n",
              "    </tr>\n",
              "    <tr>\n",
              "      <th>8</th>\n",
              "      <td>117</td>\n",
              "    </tr>\n",
              "  </tbody>\n",
              "</table>\n",
              "</div>"
            ],
            "text/plain": [
              "   Occupancy\n",
              "0        102\n",
              "2        108\n",
              "4        106\n",
              "6         93\n",
              "8        117"
            ]
          },
          "metadata": {
            "tags": []
          },
          "execution_count": 6
        }
      ]
    },
    {
      "cell_type": "code",
      "metadata": {
        "colab": {
          "base_uri": "https://localhost:8080/"
        },
        "id": "gYu7-zS3ubb0",
        "outputId": "62661633-4996-4f4a-c324-f66e03099f88"
      },
      "source": [
        "df_input.shape"
      ],
      "execution_count": null,
      "outputs": [
        {
          "output_type": "execute_result",
          "data": {
            "text/plain": [
              "(132426, 1)"
            ]
          },
          "metadata": {
            "tags": []
          },
          "execution_count": 14
        }
      ]
    },
    {
      "cell_type": "code",
      "metadata": {
        "id": "a8KoUjAVoWXd"
      },
      "source": [
        "# re-checking trainning dataset quality\r\n",
        "#df_input.query('Occupancy < 80')  "
      ],
      "execution_count": null,
      "outputs": []
    },
    {
      "cell_type": "code",
      "metadata": {
        "colab": {
          "base_uri": "https://localhost:8080/"
        },
        "id": "3N_zoXEVol9H",
        "outputId": "2c49ab68-f151-4dfe-eb5f-51c31bf6759d"
      },
      "source": [
        "df_input.info()"
      ],
      "execution_count": null,
      "outputs": [
        {
          "output_type": "stream",
          "text": [
            "<class 'pandas.core.frame.DataFrame'>\n",
            "Int64Index: 132426 entries, 0 to 243103\n",
            "Data columns (total 1 columns):\n",
            " #   Column     Non-Null Count   Dtype\n",
            "---  ------     --------------   -----\n",
            " 0   Occupancy  132426 non-null  int64\n",
            "dtypes: int64(1)\n",
            "memory usage: 2.0 MB\n"
          ],
          "name": "stdout"
        }
      ]
    },
    {
      "cell_type": "code",
      "metadata": {
        "colab": {
          "base_uri": "https://localhost:8080/",
          "height": 284
        },
        "id": "VULT7aKboqLz",
        "outputId": "3c048edd-69a1-4a22-cfbd-862d7017a163"
      },
      "source": [
        "df_input.describe()"
      ],
      "execution_count": null,
      "outputs": [
        {
          "output_type": "execute_result",
          "data": {
            "text/html": [
              "<div>\n",
              "<style scoped>\n",
              "    .dataframe tbody tr th:only-of-type {\n",
              "        vertical-align: middle;\n",
              "    }\n",
              "\n",
              "    .dataframe tbody tr th {\n",
              "        vertical-align: top;\n",
              "    }\n",
              "\n",
              "    .dataframe thead th {\n",
              "        text-align: right;\n",
              "    }\n",
              "</style>\n",
              "<table border=\"1\" class=\"dataframe\">\n",
              "  <thead>\n",
              "    <tr style=\"text-align: right;\">\n",
              "      <th></th>\n",
              "      <th>Occupancy</th>\n",
              "    </tr>\n",
              "  </thead>\n",
              "  <tbody>\n",
              "    <tr>\n",
              "      <th>count</th>\n",
              "      <td>132426.000000</td>\n",
              "    </tr>\n",
              "    <tr>\n",
              "      <th>mean</th>\n",
              "      <td>104.930414</td>\n",
              "    </tr>\n",
              "    <tr>\n",
              "      <th>std</th>\n",
              "      <td>6.888116</td>\n",
              "    </tr>\n",
              "    <tr>\n",
              "      <th>min</th>\n",
              "      <td>25.000000</td>\n",
              "    </tr>\n",
              "    <tr>\n",
              "      <th>25%</th>\n",
              "      <td>101.000000</td>\n",
              "    </tr>\n",
              "    <tr>\n",
              "      <th>50%</th>\n",
              "      <td>105.000000</td>\n",
              "    </tr>\n",
              "    <tr>\n",
              "      <th>75%</th>\n",
              "      <td>109.000000</td>\n",
              "    </tr>\n",
              "    <tr>\n",
              "      <th>max</th>\n",
              "      <td>179.000000</td>\n",
              "    </tr>\n",
              "  </tbody>\n",
              "</table>\n",
              "</div>"
            ],
            "text/plain": [
              "           Occupancy\n",
              "count  132426.000000\n",
              "mean      104.930414\n",
              "std         6.888116\n",
              "min        25.000000\n",
              "25%       101.000000\n",
              "50%       105.000000\n",
              "75%       109.000000\n",
              "max       179.000000"
            ]
          },
          "metadata": {
            "tags": []
          },
          "execution_count": 17
        }
      ]
    },
    {
      "cell_type": "markdown",
      "metadata": {
        "id": "nO6tcjbZn-VA"
      },
      "source": [
        ""
      ]
    },
    {
      "cell_type": "markdown",
      "metadata": {
        "id": "bqeRgsQwo9F5"
      },
      "source": [
        "# train and test datasets"
      ]
    },
    {
      "cell_type": "code",
      "metadata": {
        "trusted": true,
        "id": "6lJQlbd9Q4HD"
      },
      "source": [
        "# Split into training Data and test Data\n",
        "#train, test = train_test_split(df, test_size=0.2) \n",
        "train, test = train_test_split(df_input, test_size=0.2, random_state=123, shuffle=False) # SANG changed\n"
      ],
      "execution_count": null,
      "outputs": []
    },
    {
      "cell_type": "code",
      "metadata": {
        "id": "Rdtqc1-ppbsZ"
      },
      "source": [
        "#train  # no line 1, since it is a CP2 record"
      ],
      "execution_count": null,
      "outputs": []
    },
    {
      "cell_type": "code",
      "metadata": {
        "trusted": true,
        "id": "TUoRS-5mQ4HD",
        "colab": {
          "base_uri": "https://localhost:8080/",
          "height": 195
        },
        "outputId": "a53f7921-fa6e-4689-9b10-cb645b975d38"
      },
      "source": [
        "train.head()"
      ],
      "execution_count": null,
      "outputs": [
        {
          "output_type": "execute_result",
          "data": {
            "text/html": [
              "<div>\n",
              "<style scoped>\n",
              "    .dataframe tbody tr th:only-of-type {\n",
              "        vertical-align: middle;\n",
              "    }\n",
              "\n",
              "    .dataframe tbody tr th {\n",
              "        vertical-align: top;\n",
              "    }\n",
              "\n",
              "    .dataframe thead th {\n",
              "        text-align: right;\n",
              "    }\n",
              "</style>\n",
              "<table border=\"1\" class=\"dataframe\">\n",
              "  <thead>\n",
              "    <tr style=\"text-align: right;\">\n",
              "      <th></th>\n",
              "      <th>Occupancy</th>\n",
              "    </tr>\n",
              "  </thead>\n",
              "  <tbody>\n",
              "    <tr>\n",
              "      <th>0</th>\n",
              "      <td>102</td>\n",
              "    </tr>\n",
              "    <tr>\n",
              "      <th>2</th>\n",
              "      <td>108</td>\n",
              "    </tr>\n",
              "    <tr>\n",
              "      <th>4</th>\n",
              "      <td>106</td>\n",
              "    </tr>\n",
              "    <tr>\n",
              "      <th>6</th>\n",
              "      <td>93</td>\n",
              "    </tr>\n",
              "    <tr>\n",
              "      <th>8</th>\n",
              "      <td>117</td>\n",
              "    </tr>\n",
              "  </tbody>\n",
              "</table>\n",
              "</div>"
            ],
            "text/plain": [
              "   Occupancy\n",
              "0        102\n",
              "2        108\n",
              "4        106\n",
              "6         93\n",
              "8        117"
            ]
          },
          "metadata": {
            "tags": []
          },
          "execution_count": 20
        }
      ]
    },
    {
      "cell_type": "code",
      "metadata": {
        "id": "B77RUrguYlQs",
        "colab": {
          "base_uri": "https://localhost:8080/"
        },
        "outputId": "d61b1ba8-0b4c-40a2-8eba-1d1985118bb9"
      },
      "source": [
        "train.info()"
      ],
      "execution_count": null,
      "outputs": [
        {
          "output_type": "stream",
          "text": [
            "<class 'pandas.core.frame.DataFrame'>\n",
            "Int64Index: 105940 entries, 0 to 196767\n",
            "Data columns (total 1 columns):\n",
            " #   Column     Non-Null Count   Dtype\n",
            "---  ------     --------------   -----\n",
            " 0   Occupancy  105940 non-null  int64\n",
            "dtypes: int64(1)\n",
            "memory usage: 1.6 MB\n"
          ],
          "name": "stdout"
        }
      ]
    },
    {
      "cell_type": "code",
      "metadata": {
        "colab": {
          "base_uri": "https://localhost:8080/"
        },
        "id": "IdHwN7PGZP_X",
        "outputId": "557d9b87-1d85-4e7e-a3a5-b2c2198ba033"
      },
      "source": [
        "train.shape"
      ],
      "execution_count": null,
      "outputs": [
        {
          "output_type": "execute_result",
          "data": {
            "text/plain": [
              "(105940, 1)"
            ]
          },
          "metadata": {
            "tags": []
          },
          "execution_count": 22
        }
      ]
    },
    {
      "cell_type": "markdown",
      "metadata": {
        "id": "0twBgSt2vc7x"
      },
      "source": [
        ""
      ]
    },
    {
      "cell_type": "code",
      "metadata": {
        "id": "GxKjeiNvoUiX",
        "colab": {
          "base_uri": "https://localhost:8080/"
        },
        "outputId": "90b13d43-1ce1-4a1f-de0c-94d3315a934f"
      },
      "source": [
        "test.info()"
      ],
      "execution_count": null,
      "outputs": [
        {
          "output_type": "stream",
          "text": [
            "<class 'pandas.core.frame.DataFrame'>\n",
            "Int64Index: 26486 entries, 196770 to 243103\n",
            "Data columns (total 1 columns):\n",
            " #   Column     Non-Null Count  Dtype\n",
            "---  ------     --------------  -----\n",
            " 0   Occupancy  26486 non-null  int64\n",
            "dtypes: int64(1)\n",
            "memory usage: 413.8 KB\n"
          ],
          "name": "stdout"
        }
      ]
    },
    {
      "cell_type": "code",
      "metadata": {
        "trusted": true,
        "id": "ANmgziJYQ4HE",
        "colab": {
          "base_uri": "https://localhost:8080/",
          "height": 195
        },
        "outputId": "1410a8c9-ff3f-4dc5-e2b4-35f076fc6271"
      },
      "source": [
        "test.head()"
      ],
      "execution_count": null,
      "outputs": [
        {
          "output_type": "execute_result",
          "data": {
            "text/html": [
              "<div>\n",
              "<style scoped>\n",
              "    .dataframe tbody tr th:only-of-type {\n",
              "        vertical-align: middle;\n",
              "    }\n",
              "\n",
              "    .dataframe tbody tr th {\n",
              "        vertical-align: top;\n",
              "    }\n",
              "\n",
              "    .dataframe thead th {\n",
              "        text-align: right;\n",
              "    }\n",
              "</style>\n",
              "<table border=\"1\" class=\"dataframe\">\n",
              "  <thead>\n",
              "    <tr style=\"text-align: right;\">\n",
              "      <th></th>\n",
              "      <th>Occupancy</th>\n",
              "    </tr>\n",
              "  </thead>\n",
              "  <tbody>\n",
              "    <tr>\n",
              "      <th>196770</th>\n",
              "      <td>108</td>\n",
              "    </tr>\n",
              "    <tr>\n",
              "      <th>196772</th>\n",
              "      <td>104</td>\n",
              "    </tr>\n",
              "    <tr>\n",
              "      <th>196773</th>\n",
              "      <td>102</td>\n",
              "    </tr>\n",
              "    <tr>\n",
              "      <th>196775</th>\n",
              "      <td>98</td>\n",
              "    </tr>\n",
              "    <tr>\n",
              "      <th>196778</th>\n",
              "      <td>113</td>\n",
              "    </tr>\n",
              "  </tbody>\n",
              "</table>\n",
              "</div>"
            ],
            "text/plain": [
              "        Occupancy\n",
              "196770        108\n",
              "196772        104\n",
              "196773        102\n",
              "196775         98\n",
              "196778        113"
            ]
          },
          "metadata": {
            "tags": []
          },
          "execution_count": 24
        }
      ]
    },
    {
      "cell_type": "code",
      "metadata": {
        "colab": {
          "base_uri": "https://localhost:8080/"
        },
        "id": "IWEoe28rrsBP",
        "outputId": "e077878d-4e14-41c2-ec48-20319eafb45b"
      },
      "source": [
        "test.shape"
      ],
      "execution_count": null,
      "outputs": [
        {
          "output_type": "execute_result",
          "data": {
            "text/plain": [
              "(26486, 1)"
            ]
          },
          "metadata": {
            "tags": []
          },
          "execution_count": 25
        }
      ]
    },
    {
      "cell_type": "markdown",
      "metadata": {
        "id": "hf06Wy0OZ5yH"
      },
      "source": [
        "# Model definition and training"
      ]
    },
    {
      "cell_type": "code",
      "metadata": {
        "id": "k_q16Lh6bGfP"
      },
      "source": [
        "# Create keras Model in Sequential Mode --> create a layer-by-layer Neural Network\r\n",
        "#  ==> Input Layer -> Hidden Layer/s -> Output Layer \r\n",
        "model = keras.Sequential()\r\n",
        "\r\n",
        "# Input layer\r\n",
        "model.add(keras.layers.Input(shape=(1, ))) # \r\n",
        "\r\n",
        "# Add the first Hidden layer\r\n",
        "model.add(keras.layers.Dense(units=128, activation='relu', input_shape=(1, )))\r\n",
        "\r\n",
        "# Add the second Hidden layer\r\n",
        "model.add(keras.layers.Dense(units=64, activation='relu'))\r\n",
        "model.add(keras.layers.Dropout(0.2)) \r\n",
        "\r\n",
        "# Add the third Hidden layer\r\n",
        "model.add(keras.layers.Dense(units=32, activation='relu'))\r\n",
        "model.add(keras.layers.Dropout(0.2)) \r\n",
        "\r\n",
        "# Ouput Layer\r\n",
        "model.add(keras.layers.Dense(units=1))"
      ],
      "execution_count": null,
      "outputs": []
    },
    {
      "cell_type": "code",
      "metadata": {
        "colab": {
          "base_uri": "https://localhost:8080/"
        },
        "id": "Im6D8twLb733",
        "outputId": "a3806bf5-ee8d-4667-9ad1-73eef4b5af31"
      },
      "source": [
        "model.layers"
      ],
      "execution_count": null,
      "outputs": [
        {
          "output_type": "execute_result",
          "data": {
            "text/plain": [
              "[<tensorflow.python.keras.layers.core.Dense at 0x7f705a0246a0>,\n",
              " <tensorflow.python.keras.layers.core.Dense at 0x7f705a024f28>,\n",
              " <tensorflow.python.keras.layers.core.Dropout at 0x7f7056932828>,\n",
              " <tensorflow.python.keras.layers.core.Dense at 0x7f7056932390>,\n",
              " <tensorflow.python.keras.layers.core.Dropout at 0x7f705693fef0>,\n",
              " <tensorflow.python.keras.layers.core.Dense at 0x7f705693fba8>]"
            ]
          },
          "metadata": {
            "tags": []
          },
          "execution_count": 28
        }
      ]
    },
    {
      "cell_type": "code",
      "metadata": {
        "colab": {
          "base_uri": "https://localhost:8080/"
        },
        "id": "22epyjzvbZcv",
        "outputId": "89c59b96-c11a-4c57-c658-52023dc23470"
      },
      "source": [
        "model.summary()"
      ],
      "execution_count": null,
      "outputs": [
        {
          "output_type": "stream",
          "text": [
            "Model: \"sequential\"\n",
            "_________________________________________________________________\n",
            "Layer (type)                 Output Shape              Param #   \n",
            "=================================================================\n",
            "dense (Dense)                (None, 128)               256       \n",
            "_________________________________________________________________\n",
            "dense_1 (Dense)              (None, 64)                8256      \n",
            "_________________________________________________________________\n",
            "dropout (Dropout)            (None, 64)                0         \n",
            "_________________________________________________________________\n",
            "dense_2 (Dense)              (None, 32)                2080      \n",
            "_________________________________________________________________\n",
            "dropout_1 (Dropout)          (None, 32)                0         \n",
            "_________________________________________________________________\n",
            "dense_3 (Dense)              (None, 1)                 33        \n",
            "=================================================================\n",
            "Total params: 10,625\n",
            "Trainable params: 10,625\n",
            "Non-trainable params: 0\n",
            "_________________________________________________________________\n"
          ],
          "name": "stdout"
        }
      ]
    },
    {
      "cell_type": "code",
      "metadata": {
        "id": "q2tNsR0ub_2v",
        "colab": {
          "base_uri": "https://localhost:8080/",
          "height": 754
        },
        "outputId": "5e11a3e5-c03c-4f2e-b1c5-3a72784c6593"
      },
      "source": [
        "# model ploting (model visualising)\r\n",
        "from keras.utils.vis_utils import plot_model\r\n",
        "plot_model(model, to_file='model_plot.png', show_shapes=True, show_layer_names=True)"
      ],
      "execution_count": null,
      "outputs": [
        {
          "output_type": "execute_result",
          "data": {
            "image/png": "[encoded data removed]",
            "text/plain": [
              "<IPython.core.display.Image object>"
            ]
          },
          "metadata": {
            "tags": []
          },
          "execution_count": 30
        }
      ]
    },
    {
      "cell_type": "code",
      "metadata": {
        "trusted": true,
        "id": "j3MxWJFzQ4HG"
      },
      "source": [
        "# Comile the model \n",
        "model.compile(optimizer='adam', \n",
        "              loss='mean_squared_error', \n",
        "              metrics=['mean_absolute_error'])    "
      ],
      "execution_count": null,
      "outputs": []
    },
    {
      "cell_type": "code",
      "metadata": {
        "trusted": true,
        "id": "KJNfu5z6Q4HG"
      },
      "source": [
        "#import datetime, os\n",
        "#logdir = os.path.join(\"logs\", datetime.datetime.now().strftime(\"%Y%m%d-%H%M%S\"))\n",
        "#tensorboard_callback = keras.callbacks.TensorBoard(logdir, histogram_freq=1)\n",
        "\n",
        "tb = tf.keras.callbacks.TensorBoard(log_dir='logs',histogram_freq=1) # SANG"
      ],
      "execution_count": null,
      "outputs": []
    },
    {
      "cell_type": "code",
      "metadata": {
        "trusted": true,
        "id": "s0v3jNNcQ4HG"
      },
      "source": [
        "#early_stop = tf.keras.callbacks.EarlyStopping(monitor='loss', patience=5, restore_best_weights=True)\r\n",
        "early_stop = tf.keras.callbacks.EarlyStopping(monitor='mean_absolute_error', patience=50, mode='min')\r\n",
        "\r\n",
        "#model_checkpoint = tf.keras.callbacks.ModelCheckpoint(filepath='weights.h5', monitor='mean_absolute_error', verbose=1, save_best_only=True, save_weights_only=True)  # USing\r\n",
        "model_checkpoint = tf.keras.callbacks.ModelCheckpoint(filepath='model.h5', monitor='mean_absolute_error', verbose=1, save_best_only=True)  # USing\r\n"
      ],
      "execution_count": null,
      "outputs": []
    },
    {
      "cell_type": "code",
      "metadata": {
        "trusted": true,
        "id": "1uAKjl91Q4HH",
        "colab": {
          "base_uri": "https://localhost:8080/"
        },
        "outputId": "a9303c28-8996-4ac4-f51d-a05a3f2d4f13"
      },
      "source": [
        "# Train the model on Data\n",
        "batch_size = 128     # batch_size: Integer or None. Number of samples per gradient update. If unspecified, batch_size will default to 32.\n",
        "#history = model.fit(train, train, epochs=1000, callbacks=[early_stop, tb, model_checkpoint])\n",
        "history = model.fit(train, train, batch_size=batch_size, epochs=1000, callbacks=[early_stop, tb, model_checkpoint])"
      ],
      "execution_count": null,
      "outputs": [
        {
          "output_type": "stream",
          "text": [
            "Epoch 1/1000\n",
            "828/828 [==============================] - 2s 2ms/step - loss: 798.2778 - mean_absolute_error: 19.8478\n",
            "\n",
            "Epoch 00001: mean_absolute_error improved from inf to 14.40198, saving model to model.h5\n",
            "Epoch 2/1000\n",
            "828/828 [==============================] - 1s 2ms/step - loss: 215.0683 - mean_absolute_error: 11.6297\n",
            "\n",
            "Epoch 00002: mean_absolute_error improved from 14.40198 to 11.20918, saving model to model.h5\n",
            "Epoch 3/1000\n",
            "828/828 [==============================] - 2s 2ms/step - loss: 179.0612 - mean_absolute_error: 10.5433\n",
            "\n",
            "Epoch 00003: mean_absolute_error improved from 11.20918 to 10.44439, saving model to model.h5\n",
            "Epoch 4/1000\n",
            "828/828 [==============================] - 2s 2ms/step - loss: 168.4737 - mean_absolute_error: 10.2323\n",
            "\n",
            "Epoch 00004: mean_absolute_error improved from 10.44439 to 10.12375, saving model to model.h5\n",
            "Epoch 5/1000\n",
            "828/828 [==============================] - 2s 2ms/step - loss: 157.3350 - mean_absolute_error: 9.9146\n",
            "\n",
            "Epoch 00005: mean_absolute_error improved from 10.12375 to 9.85848, saving model to model.h5\n",
            "Epoch 6/1000\n",
            "828/828 [==============================] - 2s 2ms/step - loss: 151.9292 - mean_absolute_error: 9.7335\n",
            "\n",
            "Epoch 00006: mean_absolute_error improved from 9.85848 to 9.72930, saving model to model.h5\n",
            "Epoch 7/1000\n",
            "828/828 [==============================] - 1s 2ms/step - loss: 148.8787 - mean_absolute_error: 9.6602\n",
            "\n",
            "Epoch 00007: mean_absolute_error improved from 9.72930 to 9.63120, saving model to model.h5\n",
            "Epoch 8/1000\n",
            "828/828 [==============================] - 1s 2ms/step - loss: 144.7150 - mean_absolute_error: 9.5062\n",
            "\n",
            "Epoch 00008: mean_absolute_error improved from 9.63120 to 9.48408, saving model to model.h5\n",
            "Epoch 9/1000\n",
            "828/828 [==============================] - 1s 2ms/step - loss: 141.5048 - mean_absolute_error: 9.4123\n",
            "\n",
            "Epoch 00009: mean_absolute_error improved from 9.48408 to 9.39463, saving model to model.h5\n",
            "Epoch 10/1000\n",
            "828/828 [==============================] - 1s 2ms/step - loss: 140.7663 - mean_absolute_error: 9.3800\n",
            "\n",
            "Epoch 00010: mean_absolute_error improved from 9.39463 to 9.31391, saving model to model.h5\n",
            "Epoch 11/1000\n",
            "828/828 [==============================] - 2s 2ms/step - loss: 137.7328 - mean_absolute_error: 9.2836\n",
            "\n",
            "Epoch 00011: mean_absolute_error improved from 9.31391 to 9.25779, saving model to model.h5\n",
            "Epoch 12/1000\n",
            "828/828 [==============================] - 2s 2ms/step - loss: 135.6845 - mean_absolute_error: 9.2024\n",
            "\n",
            "Epoch 00012: mean_absolute_error improved from 9.25779 to 9.19280, saving model to model.h5\n",
            "Epoch 13/1000\n",
            "828/828 [==============================] - 1s 2ms/step - loss: 135.0151 - mean_absolute_error: 9.1685\n",
            "\n",
            "Epoch 00013: mean_absolute_error improved from 9.19280 to 9.17055, saving model to model.h5\n",
            "Epoch 14/1000\n",
            "828/828 [==============================] - 2s 2ms/step - loss: 131.6986 - mean_absolute_error: 9.0792\n",
            "\n",
            "Epoch 00014: mean_absolute_error improved from 9.17055 to 9.08542, saving model to model.h5\n",
            "Epoch 15/1000\n",
            "828/828 [==============================] - 2s 2ms/step - loss: 130.2328 - mean_absolute_error: 9.0226\n",
            "\n",
            "Epoch 00015: mean_absolute_error improved from 9.08542 to 9.05339, saving model to model.h5\n",
            "Epoch 16/1000\n",
            "828/828 [==============================] - 1s 2ms/step - loss: 129.8186 - mean_absolute_error: 9.0007\n",
            "\n",
            "Epoch 00016: mean_absolute_error improved from 9.05339 to 9.01757, saving model to model.h5\n",
            "Epoch 17/1000\n",
            "828/828 [==============================] - 2s 2ms/step - loss: 127.8462 - mean_absolute_error: 8.9417\n",
            "\n",
            "Epoch 00017: mean_absolute_error improved from 9.01757 to 8.92198, saving model to model.h5\n",
            "Epoch 18/1000\n",
            "828/828 [==============================] - 1s 2ms/step - loss: 126.7151 - mean_absolute_error: 8.8975\n",
            "\n",
            "Epoch 00018: mean_absolute_error improved from 8.92198 to 8.89583, saving model to model.h5\n",
            "Epoch 19/1000\n",
            "828/828 [==============================] - 2s 2ms/step - loss: 126.7651 - mean_absolute_error: 8.9049\n",
            "\n",
            "Epoch 00019: mean_absolute_error improved from 8.89583 to 8.83363, saving model to model.h5\n",
            "Epoch 20/1000\n",
            "828/828 [==============================] - 2s 2ms/step - loss: 122.7780 - mean_absolute_error: 8.7644\n",
            "\n",
            "Epoch 00020: mean_absolute_error improved from 8.83363 to 8.74984, saving model to model.h5\n",
            "Epoch 21/1000\n",
            "828/828 [==============================] - 2s 2ms/step - loss: 121.7831 - mean_absolute_error: 8.7081\n",
            "\n",
            "Epoch 00021: mean_absolute_error improved from 8.74984 to 8.73656, saving model to model.h5\n",
            "Epoch 22/1000\n",
            "828/828 [==============================] - 2s 2ms/step - loss: 119.8892 - mean_absolute_error: 8.6787\n",
            "\n",
            "Epoch 00022: mean_absolute_error improved from 8.73656 to 8.67126, saving model to model.h5\n",
            "Epoch 23/1000\n",
            "828/828 [==============================] - 2s 2ms/step - loss: 120.0252 - mean_absolute_error: 8.6440\n",
            "\n",
            "Epoch 00023: mean_absolute_error improved from 8.67126 to 8.61494, saving model to model.h5\n",
            "Epoch 24/1000\n",
            "828/828 [==============================] - 2s 2ms/step - loss: 116.4940 - mean_absolute_error: 8.5339\n",
            "\n",
            "Epoch 00024: mean_absolute_error improved from 8.61494 to 8.55318, saving model to model.h5\n",
            "Epoch 25/1000\n",
            "828/828 [==============================] - 2s 2ms/step - loss: 117.4210 - mean_absolute_error: 8.5757\n",
            "\n",
            "Epoch 00025: mean_absolute_error improved from 8.55318 to 8.53059, saving model to model.h5\n",
            "Epoch 26/1000\n",
            "828/828 [==============================] - 2s 2ms/step - loss: 114.4842 - mean_absolute_error: 8.4570\n",
            "\n",
            "Epoch 00026: mean_absolute_error improved from 8.53059 to 8.45157, saving model to model.h5\n",
            "Epoch 27/1000\n",
            "828/828 [==============================] - 2s 2ms/step - loss: 113.4668 - mean_absolute_error: 8.4487\n",
            "\n",
            "Epoch 00027: mean_absolute_error improved from 8.45157 to 8.40758, saving model to model.h5\n",
            "Epoch 28/1000\n",
            "828/828 [==============================] - 2s 2ms/step - loss: 110.9387 - mean_absolute_error: 8.3341\n",
            "\n",
            "Epoch 00028: mean_absolute_error improved from 8.40758 to 8.34388, saving model to model.h5\n",
            "Epoch 29/1000\n",
            "828/828 [==============================] - 1s 2ms/step - loss: 109.3163 - mean_absolute_error: 8.2764\n",
            "\n",
            "Epoch 00029: mean_absolute_error improved from 8.34388 to 8.27581, saving model to model.h5\n",
            "Epoch 30/1000\n",
            "828/828 [==============================] - 2s 2ms/step - loss: 108.4514 - mean_absolute_error: 8.2443\n",
            "\n",
            "Epoch 00030: mean_absolute_error improved from 8.27581 to 8.23951, saving model to model.h5\n",
            "Epoch 31/1000\n",
            "828/828 [==============================] - 2s 2ms/step - loss: 107.0493 - mean_absolute_error: 8.1889\n",
            "\n",
            "Epoch 00031: mean_absolute_error improved from 8.23951 to 8.16270, saving model to model.h5\n",
            "Epoch 32/1000\n",
            "828/828 [==============================] - 2s 2ms/step - loss: 105.4670 - mean_absolute_error: 8.1339\n",
            "\n",
            "Epoch 00032: mean_absolute_error improved from 8.16270 to 8.12023, saving model to model.h5\n",
            "Epoch 33/1000\n",
            "828/828 [==============================] - 2s 2ms/step - loss: 103.4129 - mean_absolute_error: 8.0568\n",
            "\n",
            "Epoch 00033: mean_absolute_error improved from 8.12023 to 8.04125, saving model to model.h5\n",
            "Epoch 34/1000\n",
            "828/828 [==============================] - 2s 2ms/step - loss: 102.1914 - mean_absolute_error: 8.0016\n",
            "\n",
            "Epoch 00034: mean_absolute_error improved from 8.04125 to 7.99800, saving model to model.h5\n",
            "Epoch 35/1000\n",
            "828/828 [==============================] - 2s 2ms/step - loss: 101.8419 - mean_absolute_error: 7.9922\n",
            "\n",
            "Epoch 00035: mean_absolute_error improved from 7.99800 to 7.95814, saving model to model.h5\n",
            "Epoch 36/1000\n",
            "828/828 [==============================] - 2s 2ms/step - loss: 100.3904 - mean_absolute_error: 7.9145\n",
            "\n",
            "Epoch 00036: mean_absolute_error improved from 7.95814 to 7.89902, saving model to model.h5\n",
            "Epoch 37/1000\n",
            "828/828 [==============================] - 2s 2ms/step - loss: 99.0092 - mean_absolute_error: 7.8738\n",
            "\n",
            "Epoch 00037: mean_absolute_error improved from 7.89902 to 7.84316, saving model to model.h5\n",
            "Epoch 38/1000\n",
            "828/828 [==============================] - 1s 2ms/step - loss: 97.7608 - mean_absolute_error: 7.8152\n",
            "\n",
            "Epoch 00038: mean_absolute_error improved from 7.84316 to 7.76095, saving model to model.h5\n",
            "Epoch 39/1000\n",
            "828/828 [==============================] - 2s 2ms/step - loss: 94.1528 - mean_absolute_error: 7.6845\n",
            "\n",
            "Epoch 00039: mean_absolute_error improved from 7.76095 to 7.71371, saving model to model.h5\n",
            "Epoch 40/1000\n",
            "828/828 [==============================] - 2s 2ms/step - loss: 94.1236 - mean_absolute_error: 7.6980\n",
            "\n",
            "Epoch 00040: mean_absolute_error improved from 7.71371 to 7.64757, saving model to model.h5\n",
            "Epoch 41/1000\n",
            "828/828 [==============================] - 2s 2ms/step - loss: 92.3374 - mean_absolute_error: 7.6086\n",
            "\n",
            "Epoch 00041: mean_absolute_error improved from 7.64757 to 7.59951, saving model to model.h5\n",
            "Epoch 42/1000\n",
            "828/828 [==============================] - 2s 2ms/step - loss: 91.1969 - mean_absolute_error: 7.5488\n",
            "\n",
            "Epoch 00042: mean_absolute_error improved from 7.59951 to 7.54388, saving model to model.h5\n",
            "Epoch 43/1000\n",
            "828/828 [==============================] - 2s 2ms/step - loss: 88.9800 - mean_absolute_error: 7.4678\n",
            "\n",
            "Epoch 00043: mean_absolute_error improved from 7.54388 to 7.46372, saving model to model.h5\n",
            "Epoch 44/1000\n",
            "828/828 [==============================] - 2s 2ms/step - loss: 89.1803 - mean_absolute_error: 7.4776\n",
            "\n",
            "Epoch 00044: mean_absolute_error improved from 7.46372 to 7.44934, saving model to model.h5\n",
            "Epoch 45/1000\n",
            "828/828 [==============================] - 1s 2ms/step - loss: 87.3921 - mean_absolute_error: 7.3989\n",
            "\n",
            "Epoch 00045: mean_absolute_error improved from 7.44934 to 7.37521, saving model to model.h5\n",
            "Epoch 46/1000\n",
            "828/828 [==============================] - 2s 2ms/step - loss: 86.4476 - mean_absolute_error: 7.3591\n",
            "\n",
            "Epoch 00046: mean_absolute_error improved from 7.37521 to 7.32225, saving model to model.h5\n",
            "Epoch 47/1000\n",
            "828/828 [==============================] - 2s 2ms/step - loss: 85.0268 - mean_absolute_error: 7.3099\n",
            "\n",
            "Epoch 00047: mean_absolute_error improved from 7.32225 to 7.30975, saving model to model.h5\n",
            "Epoch 48/1000\n",
            "828/828 [==============================] - 2s 2ms/step - loss: 83.6840 - mean_absolute_error: 7.2498\n",
            "\n",
            "Epoch 00048: mean_absolute_error improved from 7.30975 to 7.24079, saving model to model.h5\n",
            "Epoch 49/1000\n",
            "828/828 [==============================] - 2s 2ms/step - loss: 82.2288 - mean_absolute_error: 7.1846\n",
            "\n",
            "Epoch 00049: mean_absolute_error improved from 7.24079 to 7.15711, saving model to model.h5\n",
            "Epoch 50/1000\n",
            "828/828 [==============================] - 2s 2ms/step - loss: 81.4986 - mean_absolute_error: 7.1612\n",
            "\n",
            "Epoch 00050: mean_absolute_error improved from 7.15711 to 7.13385, saving model to model.h5\n",
            "Epoch 51/1000\n",
            "828/828 [==============================] - 2s 2ms/step - loss: 80.0859 - mean_absolute_error: 7.0943\n",
            "\n",
            "Epoch 00051: mean_absolute_error improved from 7.13385 to 7.09480, saving model to model.h5\n",
            "Epoch 52/1000\n",
            "828/828 [==============================] - 2s 2ms/step - loss: 79.1952 - mean_absolute_error: 7.0450\n",
            "\n",
            "Epoch 00052: mean_absolute_error improved from 7.09480 to 7.01544, saving model to model.h5\n",
            "Epoch 53/1000\n",
            "828/828 [==============================] - 2s 2ms/step - loss: 77.7461 - mean_absolute_error: 6.9853\n",
            "\n",
            "Epoch 00053: mean_absolute_error improved from 7.01544 to 6.95824, saving model to model.h5\n",
            "Epoch 54/1000\n",
            "828/828 [==============================] - 2s 2ms/step - loss: 76.8077 - mean_absolute_error: 6.9410\n",
            "\n",
            "Epoch 00054: mean_absolute_error improved from 6.95824 to 6.94531, saving model to model.h5\n",
            "Epoch 55/1000\n",
            "828/828 [==============================] - 1s 2ms/step - loss: 75.6994 - mean_absolute_error: 6.8871\n",
            "\n",
            "Epoch 00055: mean_absolute_error improved from 6.94531 to 6.86197, saving model to model.h5\n",
            "Epoch 56/1000\n",
            "828/828 [==============================] - 2s 2ms/step - loss: 75.1478 - mean_absolute_error: 6.8664\n",
            "\n",
            "Epoch 00056: mean_absolute_error improved from 6.86197 to 6.84912, saving model to model.h5\n",
            "Epoch 57/1000\n",
            "828/828 [==============================] - 1s 2ms/step - loss: 73.6429 - mean_absolute_error: 6.8133\n",
            "\n",
            "Epoch 00057: mean_absolute_error improved from 6.84912 to 6.77204, saving model to model.h5\n",
            "Epoch 58/1000\n",
            "828/828 [==============================] - 2s 2ms/step - loss: 73.3816 - mean_absolute_error: 6.7714\n",
            "\n",
            "Epoch 00058: mean_absolute_error improved from 6.77204 to 6.75030, saving model to model.h5\n",
            "Epoch 59/1000\n",
            "828/828 [==============================] - 2s 2ms/step - loss: 71.5515 - mean_absolute_error: 6.6962\n",
            "\n",
            "Epoch 00059: mean_absolute_error improved from 6.75030 to 6.67002, saving model to model.h5\n",
            "Epoch 60/1000\n",
            "828/828 [==============================] - 2s 2ms/step - loss: 70.2070 - mean_absolute_error: 6.6327\n",
            "\n",
            "Epoch 00060: mean_absolute_error improved from 6.67002 to 6.61945, saving model to model.h5\n",
            "Epoch 61/1000\n",
            "828/828 [==============================] - 2s 2ms/step - loss: 68.2897 - mean_absolute_error: 6.5441\n",
            "\n",
            "Epoch 00061: mean_absolute_error improved from 6.61945 to 6.57066, saving model to model.h5\n",
            "Epoch 62/1000\n",
            "828/828 [==============================] - 2s 2ms/step - loss: 68.9252 - mean_absolute_error: 6.5737\n",
            "\n",
            "Epoch 00062: mean_absolute_error improved from 6.57066 to 6.55201, saving model to model.h5\n",
            "Epoch 63/1000\n",
            "828/828 [==============================] - 2s 2ms/step - loss: 67.4908 - mean_absolute_error: 6.5282\n",
            "\n",
            "Epoch 00063: mean_absolute_error improved from 6.55201 to 6.47674, saving model to model.h5\n",
            "Epoch 64/1000\n",
            "828/828 [==============================] - 2s 2ms/step - loss: 66.4699 - mean_absolute_error: 6.4496\n",
            "\n",
            "Epoch 00064: mean_absolute_error improved from 6.47674 to 6.43626, saving model to model.h5\n",
            "Epoch 65/1000\n",
            "828/828 [==============================] - 2s 2ms/step - loss: 64.8659 - mean_absolute_error: 6.3746\n",
            "\n",
            "Epoch 00065: mean_absolute_error improved from 6.43626 to 6.38848, saving model to model.h5\n",
            "Epoch 66/1000\n",
            "828/828 [==============================] - 2s 2ms/step - loss: 64.6990 - mean_absolute_error: 6.3639\n",
            "\n",
            "Epoch 00066: mean_absolute_error improved from 6.38848 to 6.33942, saving model to model.h5\n",
            "Epoch 67/1000\n",
            "828/828 [==============================] - 2s 2ms/step - loss: 64.1269 - mean_absolute_error: 6.3335\n",
            "\n",
            "Epoch 00067: mean_absolute_error improved from 6.33942 to 6.30768, saving model to model.h5\n",
            "Epoch 68/1000\n",
            "828/828 [==============================] - 2s 2ms/step - loss: 63.4787 - mean_absolute_error: 6.3085\n",
            "\n",
            "Epoch 00068: mean_absolute_error improved from 6.30768 to 6.27218, saving model to model.h5\n",
            "Epoch 69/1000\n",
            "828/828 [==============================] - 2s 2ms/step - loss: 62.1972 - mean_absolute_error: 6.2389\n",
            "\n",
            "Epoch 00069: mean_absolute_error improved from 6.27218 to 6.20686, saving model to model.h5\n",
            "Epoch 70/1000\n",
            "828/828 [==============================] - 2s 2ms/step - loss: 61.2302 - mean_absolute_error: 6.1988\n",
            "\n",
            "Epoch 00070: mean_absolute_error improved from 6.20686 to 6.15559, saving model to model.h5\n",
            "Epoch 71/1000\n",
            "828/828 [==============================] - 2s 2ms/step - loss: 58.8731 - mean_absolute_error: 6.0729\n",
            "\n",
            "Epoch 00071: mean_absolute_error improved from 6.15559 to 6.08790, saving model to model.h5\n",
            "Epoch 72/1000\n",
            "828/828 [==============================] - 2s 2ms/step - loss: 59.1226 - mean_absolute_error: 6.1006\n",
            "\n",
            "Epoch 00072: mean_absolute_error did not improve from 6.08790\n",
            "Epoch 73/1000\n",
            "828/828 [==============================] - 2s 2ms/step - loss: 57.9585 - mean_absolute_error: 6.0401\n",
            "\n",
            "Epoch 00073: mean_absolute_error improved from 6.08790 to 6.03210, saving model to model.h5\n",
            "Epoch 74/1000\n",
            "828/828 [==============================] - 2s 2ms/step - loss: 57.4210 - mean_absolute_error: 5.9950\n",
            "\n",
            "Epoch 00074: mean_absolute_error improved from 6.03210 to 5.97940, saving model to model.h5\n",
            "Epoch 75/1000\n",
            "828/828 [==============================] - 2s 2ms/step - loss: 55.3382 - mean_absolute_error: 5.8868\n",
            "\n",
            "Epoch 00075: mean_absolute_error improved from 5.97940 to 5.92593, saving model to model.h5\n",
            "Epoch 76/1000\n",
            "828/828 [==============================] - 2s 2ms/step - loss: 55.1121 - mean_absolute_error: 5.8753\n",
            "\n",
            "Epoch 00076: mean_absolute_error improved from 5.92593 to 5.89486, saving model to model.h5\n",
            "Epoch 77/1000\n",
            "828/828 [==============================] - 2s 2ms/step - loss: 54.8731 - mean_absolute_error: 5.8577\n",
            "\n",
            "Epoch 00077: mean_absolute_error improved from 5.89486 to 5.85633, saving model to model.h5\n",
            "Epoch 78/1000\n",
            "828/828 [==============================] - 2s 2ms/step - loss: 54.4606 - mean_absolute_error: 5.8369\n",
            "\n",
            "Epoch 00078: mean_absolute_error improved from 5.85633 to 5.82293, saving model to model.h5\n",
            "Epoch 79/1000\n",
            "828/828 [==============================] - 2s 2ms/step - loss: 53.5661 - mean_absolute_error: 5.7839\n",
            "\n",
            "Epoch 00079: mean_absolute_error improved from 5.82293 to 5.74663, saving model to model.h5\n",
            "Epoch 80/1000\n",
            "828/828 [==============================] - 2s 2ms/step - loss: 52.5944 - mean_absolute_error: 5.7475\n",
            "\n",
            "Epoch 00080: mean_absolute_error improved from 5.74663 to 5.72860, saving model to model.h5\n",
            "Epoch 81/1000\n",
            "828/828 [==============================] - 2s 2ms/step - loss: 52.2104 - mean_absolute_error: 5.7213\n",
            "\n",
            "Epoch 00081: mean_absolute_error improved from 5.72860 to 5.71319, saving model to model.h5\n",
            "Epoch 82/1000\n",
            "828/828 [==============================] - 2s 2ms/step - loss: 51.2966 - mean_absolute_error: 5.6544\n",
            "\n",
            "Epoch 00082: mean_absolute_error improved from 5.71319 to 5.65304, saving model to model.h5\n",
            "Epoch 83/1000\n",
            "828/828 [==============================] - 2s 2ms/step - loss: 50.6041 - mean_absolute_error: 5.6259\n",
            "\n",
            "Epoch 00083: mean_absolute_error improved from 5.65304 to 5.61897, saving model to model.h5\n",
            "Epoch 84/1000\n",
            "828/828 [==============================] - 2s 2ms/step - loss: 50.4604 - mean_absolute_error: 5.6321\n",
            "\n",
            "Epoch 00084: mean_absolute_error improved from 5.61897 to 5.60215, saving model to model.h5\n",
            "Epoch 85/1000\n",
            "828/828 [==============================] - 2s 2ms/step - loss: 48.5382 - mean_absolute_error: 5.4996\n",
            "\n",
            "Epoch 00085: mean_absolute_error improved from 5.60215 to 5.49788, saving model to model.h5\n",
            "Epoch 86/1000\n",
            "828/828 [==============================] - 2s 2ms/step - loss: 48.6589 - mean_absolute_error: 5.5138\n",
            "\n",
            "Epoch 00086: mean_absolute_error did not improve from 5.49788\n",
            "Epoch 87/1000\n",
            "828/828 [==============================] - 2s 2ms/step - loss: 47.6276 - mean_absolute_error: 5.4682\n",
            "\n",
            "Epoch 00087: mean_absolute_error improved from 5.49788 to 5.46264, saving model to model.h5\n",
            "Epoch 88/1000\n",
            "828/828 [==============================] - 2s 2ms/step - loss: 47.4848 - mean_absolute_error: 5.4458\n",
            "\n",
            "Epoch 00088: mean_absolute_error improved from 5.46264 to 5.42488, saving model to model.h5\n",
            "Epoch 89/1000\n",
            "828/828 [==============================] - 2s 2ms/step - loss: 46.2205 - mean_absolute_error: 5.3796\n",
            "\n",
            "Epoch 00089: mean_absolute_error improved from 5.42488 to 5.36834, saving model to model.h5\n",
            "Epoch 90/1000\n",
            "828/828 [==============================] - 2s 2ms/step - loss: 45.5258 - mean_absolute_error: 5.3395\n",
            "\n",
            "Epoch 00090: mean_absolute_error improved from 5.36834 to 5.34092, saving model to model.h5\n",
            "Epoch 91/1000\n",
            "828/828 [==============================] - 2s 2ms/step - loss: 45.0177 - mean_absolute_error: 5.2959\n",
            "\n",
            "Epoch 00091: mean_absolute_error improved from 5.34092 to 5.29328, saving model to model.h5\n",
            "Epoch 92/1000\n",
            "828/828 [==============================] - 2s 2ms/step - loss: 44.6778 - mean_absolute_error: 5.2863\n",
            "\n",
            "Epoch 00092: mean_absolute_error improved from 5.29328 to 5.27248, saving model to model.h5\n",
            "Epoch 93/1000\n",
            "828/828 [==============================] - 2s 2ms/step - loss: 43.7652 - mean_absolute_error: 5.2270\n",
            "\n",
            "Epoch 00093: mean_absolute_error improved from 5.27248 to 5.22023, saving model to model.h5\n",
            "Epoch 94/1000\n",
            "828/828 [==============================] - 2s 2ms/step - loss: 43.1198 - mean_absolute_error: 5.1984\n",
            "\n",
            "Epoch 00094: mean_absolute_error improved from 5.22023 to 5.18262, saving model to model.h5\n",
            "Epoch 95/1000\n",
            "828/828 [==============================] - 2s 2ms/step - loss: 42.8785 - mean_absolute_error: 5.1672\n",
            "\n",
            "Epoch 00095: mean_absolute_error improved from 5.18262 to 5.14789, saving model to model.h5\n",
            "Epoch 96/1000\n",
            "828/828 [==============================] - 2s 2ms/step - loss: 41.5409 - mean_absolute_error: 5.0879\n",
            "\n",
            "Epoch 00096: mean_absolute_error improved from 5.14789 to 5.07357, saving model to model.h5\n",
            "Epoch 97/1000\n",
            "828/828 [==============================] - 2s 2ms/step - loss: 41.3347 - mean_absolute_error: 5.0918\n",
            "\n",
            "Epoch 00097: mean_absolute_error improved from 5.07357 to 5.07082, saving model to model.h5\n",
            "Epoch 98/1000\n",
            "828/828 [==============================] - 2s 2ms/step - loss: 40.8707 - mean_absolute_error: 5.0510\n",
            "\n",
            "Epoch 00098: mean_absolute_error improved from 5.07082 to 5.02631, saving model to model.h5\n",
            "Epoch 99/1000\n",
            "828/828 [==============================] - 2s 2ms/step - loss: 39.4875 - mean_absolute_error: 4.9648\n",
            "\n",
            "Epoch 00099: mean_absolute_error improved from 5.02631 to 4.95829, saving model to model.h5\n",
            "Epoch 100/1000\n",
            "828/828 [==============================] - 2s 2ms/step - loss: 39.1719 - mean_absolute_error: 4.9499\n",
            "\n",
            "Epoch 00100: mean_absolute_error improved from 4.95829 to 4.93135, saving model to model.h5\n",
            "Epoch 101/1000\n",
            "828/828 [==============================] - 2s 2ms/step - loss: 38.0141 - mean_absolute_error: 4.8717\n",
            "\n",
            "Epoch 00101: mean_absolute_error improved from 4.93135 to 4.87442, saving model to model.h5\n",
            "Epoch 102/1000\n",
            "828/828 [==============================] - 2s 2ms/step - loss: 37.7296 - mean_absolute_error: 4.8425\n",
            "\n",
            "Epoch 00102: mean_absolute_error improved from 4.87442 to 4.84550, saving model to model.h5\n",
            "Epoch 103/1000\n",
            "828/828 [==============================] - 2s 2ms/step - loss: 37.0604 - mean_absolute_error: 4.8131\n",
            "\n",
            "Epoch 00103: mean_absolute_error improved from 4.84550 to 4.81904, saving model to model.h5\n",
            "Epoch 104/1000\n",
            "828/828 [==============================] - 2s 2ms/step - loss: 36.5638 - mean_absolute_error: 4.7721\n",
            "\n",
            "Epoch 00104: mean_absolute_error improved from 4.81904 to 4.78813, saving model to model.h5\n",
            "Epoch 105/1000\n",
            "828/828 [==============================] - 2s 2ms/step - loss: 36.5768 - mean_absolute_error: 4.7709\n",
            "\n",
            "Epoch 00105: mean_absolute_error improved from 4.78813 to 4.73316, saving model to model.h5\n",
            "Epoch 106/1000\n",
            "828/828 [==============================] - 2s 2ms/step - loss: 35.5135 - mean_absolute_error: 4.6975\n",
            "\n",
            "Epoch 00106: mean_absolute_error improved from 4.73316 to 4.70533, saving model to model.h5\n",
            "Epoch 107/1000\n",
            "828/828 [==============================] - 2s 2ms/step - loss: 35.2701 - mean_absolute_error: 4.6926\n",
            "\n",
            "Epoch 00107: mean_absolute_error improved from 4.70533 to 4.67560, saving model to model.h5\n",
            "Epoch 108/1000\n",
            "828/828 [==============================] - 2s 2ms/step - loss: 34.9709 - mean_absolute_error: 4.6714\n",
            "\n",
            "Epoch 00108: mean_absolute_error improved from 4.67560 to 4.63528, saving model to model.h5\n",
            "Epoch 109/1000\n",
            "828/828 [==============================] - 2s 2ms/step - loss: 33.7688 - mean_absolute_error: 4.5951\n",
            "\n",
            "Epoch 00109: mean_absolute_error improved from 4.63528 to 4.59164, saving model to model.h5\n",
            "Epoch 110/1000\n",
            "828/828 [==============================] - 2s 2ms/step - loss: 33.1633 - mean_absolute_error: 4.5409\n",
            "\n",
            "Epoch 00110: mean_absolute_error improved from 4.59164 to 4.54803, saving model to model.h5\n",
            "Epoch 111/1000\n",
            "828/828 [==============================] - 3s 3ms/step - loss: 32.9635 - mean_absolute_error: 4.5213\n",
            "\n",
            "Epoch 00111: mean_absolute_error improved from 4.54803 to 4.51503, saving model to model.h5\n",
            "Epoch 112/1000\n",
            "828/828 [==============================] - 3s 4ms/step - loss: 32.6396 - mean_absolute_error: 4.5067\n",
            "\n",
            "Epoch 00112: mean_absolute_error improved from 4.51503 to 4.47293, saving model to model.h5\n",
            "Epoch 113/1000\n",
            "828/828 [==============================] - 3s 4ms/step - loss: 31.7320 - mean_absolute_error: 4.4457\n",
            "\n",
            "Epoch 00113: mean_absolute_error improved from 4.47293 to 4.44218, saving model to model.h5\n",
            "Epoch 114/1000\n",
            "828/828 [==============================] - 3s 4ms/step - loss: 31.3723 - mean_absolute_error: 4.4299\n",
            "\n",
            "Epoch 00114: mean_absolute_error improved from 4.44218 to 4.41732, saving model to model.h5\n",
            "Epoch 115/1000\n",
            "828/828 [==============================] - 2s 3ms/step - loss: 30.6575 - mean_absolute_error: 4.3764\n",
            "\n",
            "Epoch 00115: mean_absolute_error improved from 4.41732 to 4.35854, saving model to model.h5\n",
            "Epoch 116/1000\n",
            "828/828 [==============================] - 2s 2ms/step - loss: 30.6167 - mean_absolute_error: 4.3717\n",
            "\n",
            "Epoch 00116: mean_absolute_error improved from 4.35854 to 4.34108, saving model to model.h5\n",
            "Epoch 117/1000\n",
            "828/828 [==============================] - 2s 2ms/step - loss: 29.7265 - mean_absolute_error: 4.2961\n",
            "\n",
            "Epoch 00117: mean_absolute_error improved from 4.34108 to 4.27929, saving model to model.h5\n",
            "Epoch 118/1000\n",
            "828/828 [==============================] - 2s 2ms/step - loss: 29.0087 - mean_absolute_error: 4.2408\n",
            "\n",
            "Epoch 00118: mean_absolute_error improved from 4.27929 to 4.24636, saving model to model.h5\n",
            "Epoch 119/1000\n",
            "828/828 [==============================] - 2s 2ms/step - loss: 28.6333 - mean_absolute_error: 4.2176\n",
            "\n",
            "Epoch 00119: mean_absolute_error improved from 4.24636 to 4.21521, saving model to model.h5\n",
            "Epoch 120/1000\n",
            "828/828 [==============================] - 2s 2ms/step - loss: 27.9947 - mean_absolute_error: 4.1654\n",
            "\n",
            "Epoch 00120: mean_absolute_error improved from 4.21521 to 4.16003, saving model to model.h5\n",
            "Epoch 121/1000\n",
            "828/828 [==============================] - 2s 2ms/step - loss: 27.4804 - mean_absolute_error: 4.1457\n",
            "\n",
            "Epoch 00121: mean_absolute_error improved from 4.16003 to 4.13801, saving model to model.h5\n",
            "Epoch 122/1000\n",
            "828/828 [==============================] - 2s 2ms/step - loss: 27.1705 - mean_absolute_error: 4.1085\n",
            "\n",
            "Epoch 00122: mean_absolute_error improved from 4.13801 to 4.10600, saving model to model.h5\n",
            "Epoch 123/1000\n",
            "828/828 [==============================] - 2s 2ms/step - loss: 26.8597 - mean_absolute_error: 4.0807\n",
            "\n",
            "Epoch 00123: mean_absolute_error improved from 4.10600 to 4.06337, saving model to model.h5\n",
            "Epoch 124/1000\n",
            "828/828 [==============================] - 2s 2ms/step - loss: 26.5460 - mean_absolute_error: 4.0563\n",
            "\n",
            "Epoch 00124: mean_absolute_error improved from 4.06337 to 4.03576, saving model to model.h5\n",
            "Epoch 125/1000\n",
            "828/828 [==============================] - 2s 2ms/step - loss: 26.2069 - mean_absolute_error: 4.0313\n",
            "\n",
            "Epoch 00125: mean_absolute_error improved from 4.03576 to 4.01034, saving model to model.h5\n",
            "Epoch 126/1000\n",
            "828/828 [==============================] - 2s 2ms/step - loss: 25.3761 - mean_absolute_error: 3.9790\n",
            "\n",
            "Epoch 00126: mean_absolute_error improved from 4.01034 to 3.96563, saving model to model.h5\n",
            "Epoch 127/1000\n",
            "828/828 [==============================] - 2s 2ms/step - loss: 24.9769 - mean_absolute_error: 3.9387\n",
            "\n",
            "Epoch 00127: mean_absolute_error improved from 3.96563 to 3.93286, saving model to model.h5\n",
            "Epoch 128/1000\n",
            "828/828 [==============================] - 2s 2ms/step - loss: 24.4692 - mean_absolute_error: 3.9043\n",
            "\n",
            "Epoch 00128: mean_absolute_error improved from 3.93286 to 3.86997, saving model to model.h5\n",
            "Epoch 129/1000\n",
            "828/828 [==============================] - 2s 2ms/step - loss: 24.0581 - mean_absolute_error: 3.8582\n",
            "\n",
            "Epoch 00129: mean_absolute_error improved from 3.86997 to 3.85377, saving model to model.h5\n",
            "Epoch 130/1000\n",
            "828/828 [==============================] - 2s 2ms/step - loss: 23.4134 - mean_absolute_error: 3.8077\n",
            "\n",
            "Epoch 00130: mean_absolute_error improved from 3.85377 to 3.79932, saving model to model.h5\n",
            "Epoch 131/1000\n",
            "828/828 [==============================] - 2s 2ms/step - loss: 23.2163 - mean_absolute_error: 3.8000\n",
            "\n",
            "Epoch 00131: mean_absolute_error improved from 3.79932 to 3.79791, saving model to model.h5\n",
            "Epoch 132/1000\n",
            "828/828 [==============================] - 2s 2ms/step - loss: 22.7523 - mean_absolute_error: 3.7545\n",
            "\n",
            "Epoch 00132: mean_absolute_error improved from 3.79791 to 3.73819, saving model to model.h5\n",
            "Epoch 133/1000\n",
            "828/828 [==============================] - 2s 2ms/step - loss: 22.2845 - mean_absolute_error: 3.7118\n",
            "\n",
            "Epoch 00133: mean_absolute_error improved from 3.73819 to 3.69520, saving model to model.h5\n",
            "Epoch 134/1000\n",
            "828/828 [==============================] - 2s 2ms/step - loss: 22.0852 - mean_absolute_error: 3.7062\n",
            "\n",
            "Epoch 00134: mean_absolute_error improved from 3.69520 to 3.69009, saving model to model.h5\n",
            "Epoch 135/1000\n",
            "828/828 [==============================] - 2s 2ms/step - loss: 21.4428 - mean_absolute_error: 3.6442\n",
            "\n",
            "Epoch 00135: mean_absolute_error improved from 3.69009 to 3.64299, saving model to model.h5\n",
            "Epoch 136/1000\n",
            "828/828 [==============================] - 2s 2ms/step - loss: 21.1843 - mean_absolute_error: 3.6167\n",
            "\n",
            "Epoch 00136: mean_absolute_error improved from 3.64299 to 3.61056, saving model to model.h5\n",
            "Epoch 137/1000\n",
            "828/828 [==============================] - 2s 2ms/step - loss: 20.5327 - mean_absolute_error: 3.5590\n",
            "\n",
            "Epoch 00137: mean_absolute_error improved from 3.61056 to 3.55551, saving model to model.h5\n",
            "Epoch 138/1000\n",
            "828/828 [==============================] - 2s 2ms/step - loss: 20.2510 - mean_absolute_error: 3.5400\n",
            "\n",
            "Epoch 00138: mean_absolute_error improved from 3.55551 to 3.53224, saving model to model.h5\n",
            "Epoch 139/1000\n",
            "828/828 [==============================] - 2s 2ms/step - loss: 19.7561 - mean_absolute_error: 3.4917\n",
            "\n",
            "Epoch 00139: mean_absolute_error improved from 3.53224 to 3.50130, saving model to model.h5\n",
            "Epoch 140/1000\n",
            "828/828 [==============================] - 2s 2ms/step - loss: 19.4547 - mean_absolute_error: 3.4703\n",
            "\n",
            "Epoch 00140: mean_absolute_error improved from 3.50130 to 3.46836, saving model to model.h5\n",
            "Epoch 141/1000\n",
            "828/828 [==============================] - 2s 2ms/step - loss: 19.2211 - mean_absolute_error: 3.4405\n",
            "\n",
            "Epoch 00141: mean_absolute_error improved from 3.46836 to 3.42865, saving model to model.h5\n",
            "Epoch 142/1000\n",
            "828/828 [==============================] - 2s 2ms/step - loss: 18.6789 - mean_absolute_error: 3.3917\n",
            "\n",
            "Epoch 00142: mean_absolute_error improved from 3.42865 to 3.38923, saving model to model.h5\n",
            "Epoch 143/1000\n",
            "828/828 [==============================] - 2s 2ms/step - loss: 18.1179 - mean_absolute_error: 3.3385\n",
            "\n",
            "Epoch 00143: mean_absolute_error improved from 3.38923 to 3.34725, saving model to model.h5\n",
            "Epoch 144/1000\n",
            "828/828 [==============================] - 2s 2ms/step - loss: 18.1791 - mean_absolute_error: 3.3392\n",
            "\n",
            "Epoch 00144: mean_absolute_error improved from 3.34725 to 3.31122, saving model to model.h5\n",
            "Epoch 145/1000\n",
            "828/828 [==============================] - 2s 2ms/step - loss: 17.6096 - mean_absolute_error: 3.2891\n",
            "\n",
            "Epoch 00145: mean_absolute_error improved from 3.31122 to 3.28012, saving model to model.h5\n",
            "Epoch 146/1000\n",
            "828/828 [==============================] - 2s 2ms/step - loss: 17.3523 - mean_absolute_error: 3.2657\n",
            "\n",
            "Epoch 00146: mean_absolute_error improved from 3.28012 to 3.24348, saving model to model.h5\n",
            "Epoch 147/1000\n",
            "828/828 [==============================] - 2s 2ms/step - loss: 16.8321 - mean_absolute_error: 3.2217\n",
            "\n",
            "Epoch 00147: mean_absolute_error improved from 3.24348 to 3.21404, saving model to model.h5\n",
            "Epoch 148/1000\n",
            "828/828 [==============================] - 2s 2ms/step - loss: 16.4169 - mean_absolute_error: 3.1867\n",
            "\n",
            "Epoch 00148: mean_absolute_error improved from 3.21404 to 3.19212, saving model to model.h5\n",
            "Epoch 149/1000\n",
            "828/828 [==============================] - 2s 2ms/step - loss: 16.1182 - mean_absolute_error: 3.1441\n",
            "\n",
            "Epoch 00149: mean_absolute_error improved from 3.19212 to 3.14283, saving model to model.h5\n",
            "Epoch 150/1000\n",
            "828/828 [==============================] - 2s 2ms/step - loss: 15.9110 - mean_absolute_error: 3.1275\n",
            "\n",
            "Epoch 00150: mean_absolute_error improved from 3.14283 to 3.12020, saving model to model.h5\n",
            "Epoch 151/1000\n",
            "828/828 [==============================] - 2s 2ms/step - loss: 15.6686 - mean_absolute_error: 3.0918\n",
            "\n",
            "Epoch 00151: mean_absolute_error improved from 3.12020 to 3.08196, saving model to model.h5\n",
            "Epoch 152/1000\n",
            "828/828 [==============================] - 2s 2ms/step - loss: 15.1994 - mean_absolute_error: 3.0522\n",
            "\n",
            "Epoch 00152: mean_absolute_error improved from 3.08196 to 3.03529, saving model to model.h5\n",
            "Epoch 153/1000\n",
            "828/828 [==============================] - 2s 2ms/step - loss: 14.8618 - mean_absolute_error: 3.0152\n",
            "\n",
            "Epoch 00153: mean_absolute_error improved from 3.03529 to 3.01080, saving model to model.h5\n",
            "Epoch 154/1000\n",
            "828/828 [==============================] - 2s 2ms/step - loss: 14.8485 - mean_absolute_error: 3.0119\n",
            "\n",
            "Epoch 00154: mean_absolute_error improved from 3.01080 to 2.98018, saving model to model.h5\n",
            "Epoch 155/1000\n",
            "828/828 [==============================] - 2s 2ms/step - loss: 14.4747 - mean_absolute_error: 2.9745\n",
            "\n",
            "Epoch 00155: mean_absolute_error improved from 2.98018 to 2.95722, saving model to model.h5\n",
            "Epoch 156/1000\n",
            "828/828 [==============================] - 2s 2ms/step - loss: 13.8095 - mean_absolute_error: 2.8974\n",
            "\n",
            "Epoch 00156: mean_absolute_error improved from 2.95722 to 2.90416, saving model to model.h5\n",
            "Epoch 157/1000\n",
            "828/828 [==============================] - 2s 2ms/step - loss: 13.5632 - mean_absolute_error: 2.8750\n",
            "\n",
            "Epoch 00157: mean_absolute_error improved from 2.90416 to 2.86827, saving model to model.h5\n",
            "Epoch 158/1000\n",
            "828/828 [==============================] - 2s 2ms/step - loss: 13.2767 - mean_absolute_error: 2.8394\n",
            "\n",
            "Epoch 00158: mean_absolute_error improved from 2.86827 to 2.83506, saving model to model.h5\n",
            "Epoch 159/1000\n",
            "828/828 [==============================] - 2s 2ms/step - loss: 13.1140 - mean_absolute_error: 2.8198\n",
            "\n",
            "Epoch 00159: mean_absolute_error improved from 2.83506 to 2.82009, saving model to model.h5\n",
            "Epoch 160/1000\n",
            "828/828 [==============================] - 2s 2ms/step - loss: 12.5775 - mean_absolute_error: 2.7629\n",
            "\n",
            "Epoch 00160: mean_absolute_error improved from 2.82009 to 2.76239, saving model to model.h5\n",
            "Epoch 161/1000\n",
            "828/828 [==============================] - 2s 2ms/step - loss: 12.4895 - mean_absolute_error: 2.7541\n",
            "\n",
            "Epoch 00161: mean_absolute_error improved from 2.76239 to 2.74342, saving model to model.h5\n",
            "Epoch 162/1000\n",
            "828/828 [==============================] - 2s 2ms/step - loss: 12.2159 - mean_absolute_error: 2.7324\n",
            "\n",
            "Epoch 00162: mean_absolute_error improved from 2.74342 to 2.70760, saving model to model.h5\n",
            "Epoch 163/1000\n",
            "828/828 [==============================] - 2s 2ms/step - loss: 11.9763 - mean_absolute_error: 2.6910\n",
            "\n",
            "Epoch 00163: mean_absolute_error improved from 2.70760 to 2.66894, saving model to model.h5\n",
            "Epoch 164/1000\n",
            "828/828 [==============================] - 2s 2ms/step - loss: 11.3146 - mean_absolute_error: 2.6139\n",
            "\n",
            "Epoch 00164: mean_absolute_error improved from 2.66894 to 2.61615, saving model to model.h5\n",
            "Epoch 165/1000\n",
            "828/828 [==============================] - 2s 2ms/step - loss: 11.3799 - mean_absolute_error: 2.6289\n",
            "\n",
            "Epoch 00165: mean_absolute_error did not improve from 2.61615\n",
            "Epoch 166/1000\n",
            "828/828 [==============================] - 2s 2ms/step - loss: 11.1486 - mean_absolute_error: 2.5878\n",
            "\n",
            "Epoch 00166: mean_absolute_error improved from 2.61615 to 2.57735, saving model to model.h5\n",
            "Epoch 167/1000\n",
            "828/828 [==============================] - 2s 2ms/step - loss: 10.7338 - mean_absolute_error: 2.5445\n",
            "\n",
            "Epoch 00167: mean_absolute_error improved from 2.57735 to 2.54052, saving model to model.h5\n",
            "Epoch 168/1000\n",
            "828/828 [==============================] - 2s 2ms/step - loss: 10.6130 - mean_absolute_error: 2.5335\n",
            "\n",
            "Epoch 00168: mean_absolute_error improved from 2.54052 to 2.52535, saving model to model.h5\n",
            "Epoch 169/1000\n",
            "828/828 [==============================] - 2s 2ms/step - loss: 10.2134 - mean_absolute_error: 2.4812\n",
            "\n",
            "Epoch 00169: mean_absolute_error improved from 2.52535 to 2.48908, saving model to model.h5\n",
            "Epoch 170/1000\n",
            "828/828 [==============================] - 2s 2ms/step - loss: 9.9738 - mean_absolute_error: 2.4530\n",
            "\n",
            "Epoch 00170: mean_absolute_error improved from 2.48908 to 2.43989, saving model to model.h5\n",
            "Epoch 171/1000\n",
            "828/828 [==============================] - 2s 2ms/step - loss: 9.7757 - mean_absolute_error: 2.4220\n",
            "\n",
            "Epoch 00171: mean_absolute_error improved from 2.43989 to 2.41495, saving model to model.h5\n",
            "Epoch 172/1000\n",
            "828/828 [==============================] - 2s 2ms/step - loss: 9.7252 - mean_absolute_error: 2.4070\n",
            "\n",
            "Epoch 00172: mean_absolute_error improved from 2.41495 to 2.38421, saving model to model.h5\n",
            "Epoch 173/1000\n",
            "828/828 [==============================] - 2s 2ms/step - loss: 9.3152 - mean_absolute_error: 2.3632\n",
            "\n",
            "Epoch 00173: mean_absolute_error improved from 2.38421 to 2.35758, saving model to model.h5\n",
            "Epoch 174/1000\n",
            "828/828 [==============================] - 2s 2ms/step - loss: 9.0900 - mean_absolute_error: 2.3308\n",
            "\n",
            "Epoch 00174: mean_absolute_error improved from 2.35758 to 2.31339, saving model to model.h5\n",
            "Epoch 175/1000\n",
            "828/828 [==============================] - 2s 2ms/step - loss: 8.8079 - mean_absolute_error: 2.2935\n",
            "\n",
            "Epoch 00175: mean_absolute_error improved from 2.31339 to 2.28711, saving model to model.h5\n",
            "Epoch 176/1000\n",
            "828/828 [==============================] - 2s 2ms/step - loss: 8.5924 - mean_absolute_error: 2.2609\n",
            "\n",
            "Epoch 00176: mean_absolute_error improved from 2.28711 to 2.25887, saving model to model.h5\n",
            "Epoch 177/1000\n",
            "828/828 [==============================] - 2s 2ms/step - loss: 8.3883 - mean_absolute_error: 2.2342\n",
            "\n",
            "Epoch 00177: mean_absolute_error improved from 2.25887 to 2.22996, saving model to model.h5\n",
            "Epoch 178/1000\n",
            "828/828 [==============================] - 2s 2ms/step - loss: 8.2106 - mean_absolute_error: 2.2155\n",
            "\n",
            "Epoch 00178: mean_absolute_error improved from 2.22996 to 2.19605, saving model to model.h5\n",
            "Epoch 179/1000\n",
            "828/828 [==============================] - 2s 2ms/step - loss: 8.0381 - mean_absolute_error: 2.1761\n",
            "\n",
            "Epoch 00179: mean_absolute_error improved from 2.19605 to 2.17072, saving model to model.h5\n",
            "Epoch 180/1000\n",
            "828/828 [==============================] - 2s 2ms/step - loss: 7.6970 - mean_absolute_error: 2.1361\n",
            "\n",
            "Epoch 00180: mean_absolute_error improved from 2.17072 to 2.12973, saving model to model.h5\n",
            "Epoch 181/1000\n",
            "828/828 [==============================] - 2s 2ms/step - loss: 7.5009 - mean_absolute_error: 2.1012\n",
            "\n",
            "Epoch 00181: mean_absolute_error improved from 2.12973 to 2.10274, saving model to model.h5\n",
            "Epoch 182/1000\n",
            "828/828 [==============================] - 2s 2ms/step - loss: 7.3638 - mean_absolute_error: 2.0857\n",
            "\n",
            "Epoch 00182: mean_absolute_error improved from 2.10274 to 2.07233, saving model to model.h5\n",
            "Epoch 183/1000\n",
            "828/828 [==============================] - 2s 2ms/step - loss: 7.1088 - mean_absolute_error: 2.0431\n",
            "\n",
            "Epoch 00183: mean_absolute_error improved from 2.07233 to 2.03539, saving model to model.h5\n",
            "Epoch 184/1000\n",
            "828/828 [==============================] - 2s 2ms/step - loss: 6.9752 - mean_absolute_error: 2.0271\n",
            "\n",
            "Epoch 00184: mean_absolute_error improved from 2.03539 to 2.02638, saving model to model.h5\n",
            "Epoch 185/1000\n",
            "828/828 [==============================] - 2s 2ms/step - loss: 6.7617 - mean_absolute_error: 1.9891\n",
            "\n",
            "Epoch 00185: mean_absolute_error improved from 2.02638 to 1.98535, saving model to model.h5\n",
            "Epoch 186/1000\n",
            "828/828 [==============================] - 2s 2ms/step - loss: 6.4872 - mean_absolute_error: 1.9546\n",
            "\n",
            "Epoch 00186: mean_absolute_error improved from 1.98535 to 1.95012, saving model to model.h5\n",
            "Epoch 187/1000\n",
            "828/828 [==============================] - 2s 2ms/step - loss: 6.4403 - mean_absolute_error: 1.9351\n",
            "\n",
            "Epoch 00187: mean_absolute_error improved from 1.95012 to 1.92948, saving model to model.h5\n",
            "Epoch 188/1000\n",
            "828/828 [==============================] - 2s 2ms/step - loss: 6.2647 - mean_absolute_error: 1.9093\n",
            "\n",
            "Epoch 00188: mean_absolute_error improved from 1.92948 to 1.90219, saving model to model.h5\n",
            "Epoch 189/1000\n",
            "828/828 [==============================] - 2s 2ms/step - loss: 6.0954 - mean_absolute_error: 1.8787\n",
            "\n",
            "Epoch 00189: mean_absolute_error improved from 1.90219 to 1.86166, saving model to model.h5\n",
            "Epoch 190/1000\n",
            "828/828 [==============================] - 2s 2ms/step - loss: 5.8138 - mean_absolute_error: 1.8371\n",
            "\n",
            "Epoch 00190: mean_absolute_error improved from 1.86166 to 1.83940, saving model to model.h5\n",
            "Epoch 191/1000\n",
            "828/828 [==============================] - 2s 2ms/step - loss: 5.7981 - mean_absolute_error: 1.8313\n",
            "\n",
            "Epoch 00191: mean_absolute_error improved from 1.83940 to 1.81691, saving model to model.h5\n",
            "Epoch 192/1000\n",
            "828/828 [==============================] - 2s 2ms/step - loss: 5.6252 - mean_absolute_error: 1.8001\n",
            "\n",
            "Epoch 00192: mean_absolute_error improved from 1.81691 to 1.78745, saving model to model.h5\n",
            "Epoch 193/1000\n",
            "828/828 [==============================] - 2s 2ms/step - loss: 5.3458 - mean_absolute_error: 1.7559\n",
            "\n",
            "Epoch 00193: mean_absolute_error improved from 1.78745 to 1.75564, saving model to model.h5\n",
            "Epoch 194/1000\n",
            "828/828 [==============================] - 2s 2ms/step - loss: 5.2758 - mean_absolute_error: 1.7307\n",
            "\n",
            "Epoch 00194: mean_absolute_error improved from 1.75564 to 1.72372, saving model to model.h5\n",
            "Epoch 195/1000\n",
            "828/828 [==============================] - 2s 2ms/step - loss: 5.2231 - mean_absolute_error: 1.7231\n",
            "\n",
            "Epoch 00195: mean_absolute_error improved from 1.72372 to 1.71893, saving model to model.h5\n",
            "Epoch 196/1000\n",
            "828/828 [==============================] - 2s 2ms/step - loss: 4.9139 - mean_absolute_error: 1.6768\n",
            "\n",
            "Epoch 00196: mean_absolute_error improved from 1.71893 to 1.66699, saving model to model.h5\n",
            "Epoch 197/1000\n",
            "828/828 [==============================] - 2s 2ms/step - loss: 4.7656 - mean_absolute_error: 1.6471\n",
            "\n",
            "Epoch 00197: mean_absolute_error improved from 1.66699 to 1.65324, saving model to model.h5\n",
            "Epoch 198/1000\n",
            "828/828 [==============================] - 2s 2ms/step - loss: 4.6809 - mean_absolute_error: 1.6217\n",
            "\n",
            "Epoch 00198: mean_absolute_error improved from 1.65324 to 1.62745, saving model to model.h5\n",
            "Epoch 199/1000\n",
            "828/828 [==============================] - 2s 2ms/step - loss: 4.5922 - mean_absolute_error: 1.6106\n",
            "\n",
            "Epoch 00199: mean_absolute_error improved from 1.62745 to 1.60946, saving model to model.h5\n",
            "Epoch 200/1000\n",
            "828/828 [==============================] - 2s 2ms/step - loss: 4.4485 - mean_absolute_error: 1.5783\n",
            "\n",
            "Epoch 00200: mean_absolute_error improved from 1.60946 to 1.56217, saving model to model.h5\n",
            "Epoch 201/1000\n",
            "828/828 [==============================] - 2s 2ms/step - loss: 4.3569 - mean_absolute_error: 1.5605\n",
            "\n",
            "Epoch 00201: mean_absolute_error improved from 1.56217 to 1.54459, saving model to model.h5\n",
            "Epoch 202/1000\n",
            "828/828 [==============================] - 2s 2ms/step - loss: 4.1811 - mean_absolute_error: 1.5292\n",
            "\n",
            "Epoch 00202: mean_absolute_error improved from 1.54459 to 1.52630, saving model to model.h5\n",
            "Epoch 203/1000\n",
            "828/828 [==============================] - 2s 2ms/step - loss: 4.1375 - mean_absolute_error: 1.5150\n",
            "\n",
            "Epoch 00203: mean_absolute_error improved from 1.52630 to 1.49796, saving model to model.h5\n",
            "Epoch 204/1000\n",
            "828/828 [==============================] - 2s 2ms/step - loss: 3.9407 - mean_absolute_error: 1.4720\n",
            "\n",
            "Epoch 00204: mean_absolute_error improved from 1.49796 to 1.47124, saving model to model.h5\n",
            "Epoch 205/1000\n",
            "828/828 [==============================] - 2s 2ms/step - loss: 3.7403 - mean_absolute_error: 1.4385\n",
            "\n",
            "Epoch 00205: mean_absolute_error improved from 1.47124 to 1.43941, saving model to model.h5\n",
            "Epoch 206/1000\n",
            "828/828 [==============================] - 2s 2ms/step - loss: 3.6946 - mean_absolute_error: 1.4237\n",
            "\n",
            "Epoch 00206: mean_absolute_error improved from 1.43941 to 1.42471, saving model to model.h5\n",
            "Epoch 207/1000\n",
            "828/828 [==============================] - 2s 2ms/step - loss: 3.6563 - mean_absolute_error: 1.4099\n",
            "\n",
            "Epoch 00207: mean_absolute_error improved from 1.42471 to 1.39196, saving model to model.h5\n",
            "Epoch 208/1000\n",
            "828/828 [==============================] - 2s 2ms/step - loss: 3.5938 - mean_absolute_error: 1.3942\n",
            "\n",
            "Epoch 00208: mean_absolute_error improved from 1.39196 to 1.38382, saving model to model.h5\n",
            "Epoch 209/1000\n",
            "828/828 [==============================] - 2s 2ms/step - loss: 3.4751 - mean_absolute_error: 1.3704\n",
            "\n",
            "Epoch 00209: mean_absolute_error improved from 1.38382 to 1.35154, saving model to model.h5\n",
            "Epoch 210/1000\n",
            "828/828 [==============================] - 2s 2ms/step - loss: 3.2736 - mean_absolute_error: 1.3245\n",
            "\n",
            "Epoch 00210: mean_absolute_error improved from 1.35154 to 1.32122, saving model to model.h5\n",
            "Epoch 211/1000\n",
            "828/828 [==============================] - 2s 2ms/step - loss: 3.1950 - mean_absolute_error: 1.3100\n",
            "\n",
            "Epoch 00211: mean_absolute_error improved from 1.32122 to 1.31066, saving model to model.h5\n",
            "Epoch 212/1000\n",
            "828/828 [==============================] - 2s 2ms/step - loss: 3.0816 - mean_absolute_error: 1.2901\n",
            "\n",
            "Epoch 00212: mean_absolute_error improved from 1.31066 to 1.28619, saving model to model.h5\n",
            "Epoch 213/1000\n",
            "828/828 [==============================] - 2s 2ms/step - loss: 3.0908 - mean_absolute_error: 1.2794\n",
            "\n",
            "Epoch 00213: mean_absolute_error improved from 1.28619 to 1.27181, saving model to model.h5\n",
            "Epoch 214/1000\n",
            "828/828 [==============================] - 2s 2ms/step - loss: 2.9196 - mean_absolute_error: 1.2434\n",
            "\n",
            "Epoch 00214: mean_absolute_error improved from 1.27181 to 1.24477, saving model to model.h5\n",
            "Epoch 215/1000\n",
            "828/828 [==============================] - 2s 2ms/step - loss: 2.7674 - mean_absolute_error: 1.2108\n",
            "\n",
            "Epoch 00215: mean_absolute_error improved from 1.24477 to 1.20842, saving model to model.h5\n",
            "Epoch 216/1000\n",
            "828/828 [==============================] - 2s 2ms/step - loss: 2.7882 - mean_absolute_error: 1.2105\n",
            "\n",
            "Epoch 00216: mean_absolute_error improved from 1.20842 to 1.20650, saving model to model.h5\n",
            "Epoch 217/1000\n",
            "828/828 [==============================] - 2s 2ms/step - loss: 2.6562 - mean_absolute_error: 1.1911\n",
            "\n",
            "Epoch 00217: mean_absolute_error improved from 1.20650 to 1.18737, saving model to model.h5\n",
            "Epoch 218/1000\n",
            "828/828 [==============================] - 2s 2ms/step - loss: 2.6627 - mean_absolute_error: 1.1805\n",
            "\n",
            "Epoch 00218: mean_absolute_error improved from 1.18737 to 1.16769, saving model to model.h5\n",
            "Epoch 219/1000\n",
            "828/828 [==============================] - 2s 2ms/step - loss: 2.5784 - mean_absolute_error: 1.1639\n",
            "\n",
            "Epoch 00219: mean_absolute_error improved from 1.16769 to 1.16015, saving model to model.h5\n",
            "Epoch 220/1000\n",
            "828/828 [==============================] - 2s 2ms/step - loss: 2.5877 - mean_absolute_error: 1.1539\n",
            "\n",
            "Epoch 00220: mean_absolute_error improved from 1.16015 to 1.13533, saving model to model.h5\n",
            "Epoch 221/1000\n",
            "828/828 [==============================] - 2s 2ms/step - loss: 2.4590 - mean_absolute_error: 1.1182\n",
            "\n",
            "Epoch 00221: mean_absolute_error improved from 1.13533 to 1.11871, saving model to model.h5\n",
            "Epoch 222/1000\n",
            "828/828 [==============================] - 2s 2ms/step - loss: 2.4861 - mean_absolute_error: 1.1284\n",
            "\n",
            "Epoch 00222: mean_absolute_error improved from 1.11871 to 1.11604, saving model to model.h5\n",
            "Epoch 223/1000\n",
            "828/828 [==============================] - 2s 2ms/step - loss: 2.3789 - mean_absolute_error: 1.1037\n",
            "\n",
            "Epoch 00223: mean_absolute_error improved from 1.11604 to 1.09377, saving model to model.h5\n",
            "Epoch 224/1000\n",
            "828/828 [==============================] - 2s 2ms/step - loss: 2.3053 - mean_absolute_error: 1.0809\n",
            "\n",
            "Epoch 00224: mean_absolute_error improved from 1.09377 to 1.07242, saving model to model.h5\n",
            "Epoch 225/1000\n",
            "828/828 [==============================] - 2s 2ms/step - loss: 2.2321 - mean_absolute_error: 1.0631\n",
            "\n",
            "Epoch 00225: mean_absolute_error improved from 1.07242 to 1.05991, saving model to model.h5\n",
            "Epoch 226/1000\n",
            "828/828 [==============================] - 2s 2ms/step - loss: 2.2476 - mean_absolute_error: 1.0576\n",
            "\n",
            "Epoch 00226: mean_absolute_error improved from 1.05991 to 1.05037, saving model to model.h5\n",
            "Epoch 227/1000\n",
            "828/828 [==============================] - 2s 2ms/step - loss: 2.1581 - mean_absolute_error: 1.0418\n",
            "\n",
            "Epoch 00227: mean_absolute_error improved from 1.05037 to 1.03572, saving model to model.h5\n",
            "Epoch 228/1000\n",
            "828/828 [==============================] - 2s 2ms/step - loss: 2.0777 - mean_absolute_error: 1.0200\n",
            "\n",
            "Epoch 00228: mean_absolute_error improved from 1.03572 to 1.01636, saving model to model.h5\n",
            "Epoch 229/1000\n",
            "828/828 [==============================] - 2s 2ms/step - loss: 2.0206 - mean_absolute_error: 1.0080\n",
            "\n",
            "Epoch 00229: mean_absolute_error improved from 1.01636 to 1.01440, saving model to model.h5\n",
            "Epoch 230/1000\n",
            "828/828 [==============================] - 2s 2ms/step - loss: 2.1115 - mean_absolute_error: 1.0195\n",
            "\n",
            "Epoch 00230: mean_absolute_error improved from 1.01440 to 1.00838, saving model to model.h5\n",
            "Epoch 231/1000\n",
            "828/828 [==============================] - 2s 2ms/step - loss: 2.0197 - mean_absolute_error: 0.9850\n",
            "\n",
            "Epoch 00231: mean_absolute_error improved from 1.00838 to 0.98970, saving model to model.h5\n",
            "Epoch 232/1000\n",
            "828/828 [==============================] - 2s 2ms/step - loss: 2.0190 - mean_absolute_error: 0.9857\n",
            "\n",
            "Epoch 00232: mean_absolute_error improved from 0.98970 to 0.97731, saving model to model.h5\n",
            "Epoch 233/1000\n",
            "828/828 [==============================] - 2s 2ms/step - loss: 1.9089 - mean_absolute_error: 0.9776\n",
            "\n",
            "Epoch 00233: mean_absolute_error improved from 0.97731 to 0.97064, saving model to model.h5\n",
            "Epoch 234/1000\n",
            "828/828 [==============================] - 2s 2ms/step - loss: 1.8415 - mean_absolute_error: 0.9471\n",
            "\n",
            "Epoch 00234: mean_absolute_error improved from 0.97064 to 0.95237, saving model to model.h5\n",
            "Epoch 235/1000\n",
            "828/828 [==============================] - 2s 2ms/step - loss: 1.9177 - mean_absolute_error: 0.9585\n",
            "\n",
            "Epoch 00235: mean_absolute_error improved from 0.95237 to 0.94707, saving model to model.h5\n",
            "Epoch 236/1000\n",
            "828/828 [==============================] - 2s 2ms/step - loss: 1.8985 - mean_absolute_error: 0.9435\n",
            "\n",
            "Epoch 00236: mean_absolute_error improved from 0.94707 to 0.94498, saving model to model.h5\n",
            "Epoch 237/1000\n",
            "828/828 [==============================] - 2s 2ms/step - loss: 1.7530 - mean_absolute_error: 0.9257\n",
            "\n",
            "Epoch 00237: mean_absolute_error improved from 0.94498 to 0.93073, saving model to model.h5\n",
            "Epoch 238/1000\n",
            "828/828 [==============================] - 2s 2ms/step - loss: 1.7716 - mean_absolute_error: 0.9123\n",
            "\n",
            "Epoch 00238: mean_absolute_error improved from 0.93073 to 0.91120, saving model to model.h5\n",
            "Epoch 239/1000\n",
            "828/828 [==============================] - 2s 2ms/step - loss: 1.7870 - mean_absolute_error: 0.9241\n",
            "\n",
            "Epoch 00239: mean_absolute_error did not improve from 0.91120\n",
            "Epoch 240/1000\n",
            "828/828 [==============================] - 2s 2ms/step - loss: 1.7918 - mean_absolute_error: 0.9313\n",
            "\n",
            "Epoch 00240: mean_absolute_error did not improve from 0.91120\n",
            "Epoch 241/1000\n",
            "828/828 [==============================] - 2s 2ms/step - loss: 1.8018 - mean_absolute_error: 0.9128\n",
            "\n",
            "Epoch 00241: mean_absolute_error improved from 0.91120 to 0.90529, saving model to model.h5\n",
            "Epoch 242/1000\n",
            "828/828 [==============================] - 2s 2ms/step - loss: 1.6691 - mean_absolute_error: 0.8885\n",
            "\n",
            "Epoch 00242: mean_absolute_error improved from 0.90529 to 0.88999, saving model to model.h5\n",
            "Epoch 243/1000\n",
            "828/828 [==============================] - 2s 2ms/step - loss: 1.6745 - mean_absolute_error: 0.8823\n",
            "\n",
            "Epoch 00243: mean_absolute_error improved from 0.88999 to 0.88370, saving model to model.h5\n",
            "Epoch 244/1000\n",
            "828/828 [==============================] - 2s 2ms/step - loss: 1.6616 - mean_absolute_error: 0.8743\n",
            "\n",
            "Epoch 00244: mean_absolute_error improved from 0.88370 to 0.87331, saving model to model.h5\n",
            "Epoch 245/1000\n",
            "828/828 [==============================] - 2s 2ms/step - loss: 1.6569 - mean_absolute_error: 0.8716\n",
            "\n",
            "Epoch 00245: mean_absolute_error did not improve from 0.87331\n",
            "Epoch 246/1000\n",
            "828/828 [==============================] - 2s 2ms/step - loss: 1.6791 - mean_absolute_error: 0.8780\n",
            "\n",
            "Epoch 00246: mean_absolute_error did not improve from 0.87331\n",
            "Epoch 247/1000\n",
            "828/828 [==============================] - 2s 2ms/step - loss: 1.6088 - mean_absolute_error: 0.8731\n",
            "\n",
            "Epoch 00247: mean_absolute_error improved from 0.87331 to 0.86814, saving model to model.h5\n",
            "Epoch 248/1000\n",
            "828/828 [==============================] - 2s 2ms/step - loss: 1.5751 - mean_absolute_error: 0.8689\n",
            "\n",
            "Epoch 00248: mean_absolute_error improved from 0.86814 to 0.85916, saving model to model.h5\n",
            "Epoch 249/1000\n",
            "828/828 [==============================] - 2s 2ms/step - loss: 1.5447 - mean_absolute_error: 0.8532\n",
            "\n",
            "Epoch 00249: mean_absolute_error improved from 0.85916 to 0.85461, saving model to model.h5\n",
            "Epoch 250/1000\n",
            "828/828 [==============================] - 2s 2ms/step - loss: 1.5922 - mean_absolute_error: 0.8616\n",
            "\n",
            "Epoch 00250: mean_absolute_error improved from 0.85461 to 0.85221, saving model to model.h5\n",
            "Epoch 251/1000\n",
            "828/828 [==============================] - 2s 2ms/step - loss: 1.5587 - mean_absolute_error: 0.8508\n",
            "\n",
            "Epoch 00251: mean_absolute_error did not improve from 0.85221\n",
            "Epoch 252/1000\n",
            "828/828 [==============================] - 2s 2ms/step - loss: 1.5497 - mean_absolute_error: 0.8526\n",
            "\n",
            "Epoch 00252: mean_absolute_error improved from 0.85221 to 0.83999, saving model to model.h5\n",
            "Epoch 253/1000\n",
            "828/828 [==============================] - 2s 2ms/step - loss: 1.5775 - mean_absolute_error: 0.8515\n",
            "\n",
            "Epoch 00253: mean_absolute_error did not improve from 0.83999\n",
            "Epoch 254/1000\n",
            "828/828 [==============================] - 2s 2ms/step - loss: 1.5587 - mean_absolute_error: 0.8331\n",
            "\n",
            "Epoch 00254: mean_absolute_error improved from 0.83999 to 0.83787, saving model to model.h5\n",
            "Epoch 255/1000\n",
            "828/828 [==============================] - 2s 2ms/step - loss: 1.5492 - mean_absolute_error: 0.8341\n",
            "\n",
            "Epoch 00255: mean_absolute_error improved from 0.83787 to 0.83153, saving model to model.h5\n",
            "Epoch 256/1000\n",
            "828/828 [==============================] - 2s 2ms/step - loss: 1.5607 - mean_absolute_error: 0.8301\n",
            "\n",
            "Epoch 00256: mean_absolute_error improved from 0.83153 to 0.82866, saving model to model.h5\n",
            "Epoch 257/1000\n",
            "828/828 [==============================] - 2s 2ms/step - loss: 1.4589 - mean_absolute_error: 0.8303\n",
            "\n",
            "Epoch 00257: mean_absolute_error improved from 0.82866 to 0.82456, saving model to model.h5\n",
            "Epoch 258/1000\n",
            "828/828 [==============================] - 2s 2ms/step - loss: 1.4505 - mean_absolute_error: 0.8168\n",
            "\n",
            "Epoch 00258: mean_absolute_error improved from 0.82456 to 0.80900, saving model to model.h5\n",
            "Epoch 259/1000\n",
            "828/828 [==============================] - 2s 2ms/step - loss: 1.4507 - mean_absolute_error: 0.8113\n",
            "\n",
            "Epoch 00259: mean_absolute_error did not improve from 0.80900\n",
            "Epoch 260/1000\n",
            "828/828 [==============================] - 2s 2ms/step - loss: 1.4170 - mean_absolute_error: 0.8017\n",
            "\n",
            "Epoch 00260: mean_absolute_error improved from 0.80900 to 0.79790, saving model to model.h5\n",
            "Epoch 261/1000\n",
            "828/828 [==============================] - 2s 2ms/step - loss: 1.4081 - mean_absolute_error: 0.8082\n",
            "\n",
            "Epoch 00261: mean_absolute_error did not improve from 0.79790\n",
            "Epoch 262/1000\n",
            "828/828 [==============================] - 2s 2ms/step - loss: 1.4109 - mean_absolute_error: 0.7948\n",
            "\n",
            "Epoch 00262: mean_absolute_error improved from 0.79790 to 0.79263, saving model to model.h5\n",
            "Epoch 263/1000\n",
            "828/828 [==============================] - 2s 2ms/step - loss: 1.4432 - mean_absolute_error: 0.8040\n",
            "\n",
            "Epoch 00263: mean_absolute_error did not improve from 0.79263\n",
            "Epoch 264/1000\n",
            "828/828 [==============================] - 2s 2ms/step - loss: 1.4433 - mean_absolute_error: 0.8057\n",
            "\n",
            "Epoch 00264: mean_absolute_error did not improve from 0.79263\n",
            "Epoch 265/1000\n",
            "828/828 [==============================] - 2s 2ms/step - loss: 1.4064 - mean_absolute_error: 0.7917\n",
            "\n",
            "Epoch 00265: mean_absolute_error improved from 0.79263 to 0.78877, saving model to model.h5\n",
            "Epoch 266/1000\n",
            "828/828 [==============================] - 2s 2ms/step - loss: 1.4588 - mean_absolute_error: 0.7927\n",
            "\n",
            "Epoch 00266: mean_absolute_error did not improve from 0.78877\n",
            "Epoch 267/1000\n",
            "828/828 [==============================] - 2s 2ms/step - loss: 1.3645 - mean_absolute_error: 0.7811\n",
            "\n",
            "Epoch 00267: mean_absolute_error improved from 0.78877 to 0.78686, saving model to model.h5\n",
            "Epoch 268/1000\n",
            "828/828 [==============================] - 2s 2ms/step - loss: 1.3635 - mean_absolute_error: 0.7913\n",
            "\n",
            "Epoch 00268: mean_absolute_error did not improve from 0.78686\n",
            "Epoch 269/1000\n",
            "828/828 [==============================] - 2s 2ms/step - loss: 1.3342 - mean_absolute_error: 0.7804\n",
            "\n",
            "Epoch 00269: mean_absolute_error improved from 0.78686 to 0.78532, saving model to model.h5\n",
            "Epoch 270/1000\n",
            "828/828 [==============================] - 2s 2ms/step - loss: 1.4229 - mean_absolute_error: 0.7952\n",
            "\n",
            "Epoch 00270: mean_absolute_error did not improve from 0.78532\n",
            "Epoch 271/1000\n",
            "828/828 [==============================] - 2s 2ms/step - loss: 1.3670 - mean_absolute_error: 0.7771\n",
            "\n",
            "Epoch 00271: mean_absolute_error improved from 0.78532 to 0.78254, saving model to model.h5\n",
            "Epoch 272/1000\n",
            "828/828 [==============================] - 2s 2ms/step - loss: 1.3541 - mean_absolute_error: 0.7773\n",
            "\n",
            "Epoch 00272: mean_absolute_error improved from 0.78254 to 0.77385, saving model to model.h5\n",
            "Epoch 273/1000\n",
            "828/828 [==============================] - 2s 2ms/step - loss: 1.3974 - mean_absolute_error: 0.8045\n",
            "\n",
            "Epoch 00273: mean_absolute_error did not improve from 0.77385\n",
            "Epoch 274/1000\n",
            "828/828 [==============================] - 2s 2ms/step - loss: 1.3883 - mean_absolute_error: 0.7791\n",
            "\n",
            "Epoch 00274: mean_absolute_error did not improve from 0.77385\n",
            "Epoch 275/1000\n",
            "828/828 [==============================] - 2s 2ms/step - loss: 1.3515 - mean_absolute_error: 0.7814\n",
            "\n",
            "Epoch 00275: mean_absolute_error did not improve from 0.77385\n",
            "Epoch 276/1000\n",
            "828/828 [==============================] - 2s 2ms/step - loss: 1.3866 - mean_absolute_error: 0.8056\n",
            "\n",
            "Epoch 00276: mean_absolute_error did not improve from 0.77385\n",
            "Epoch 277/1000\n",
            "828/828 [==============================] - 2s 2ms/step - loss: 1.4402 - mean_absolute_error: 0.7736\n",
            "\n",
            "Epoch 00277: mean_absolute_error improved from 0.77385 to 0.77383, saving model to model.h5\n",
            "Epoch 278/1000\n",
            "828/828 [==============================] - 2s 2ms/step - loss: 1.3245 - mean_absolute_error: 0.7716\n",
            "\n",
            "Epoch 00278: mean_absolute_error improved from 0.77383 to 0.77071, saving model to model.h5\n",
            "Epoch 279/1000\n",
            "828/828 [==============================] - 2s 2ms/step - loss: 1.3378 - mean_absolute_error: 0.7722\n",
            "\n",
            "Epoch 00279: mean_absolute_error improved from 0.77071 to 0.76443, saving model to model.h5\n",
            "Epoch 280/1000\n",
            "828/828 [==============================] - 2s 2ms/step - loss: 1.3795 - mean_absolute_error: 0.7806\n",
            "\n",
            "Epoch 00280: mean_absolute_error did not improve from 0.76443\n",
            "Epoch 281/1000\n",
            "828/828 [==============================] - 2s 2ms/step - loss: 1.4124 - mean_absolute_error: 0.7886\n",
            "\n",
            "Epoch 00281: mean_absolute_error did not improve from 0.76443\n",
            "Epoch 282/1000\n",
            "828/828 [==============================] - 2s 2ms/step - loss: 1.4222 - mean_absolute_error: 0.7908\n",
            "\n",
            "Epoch 00282: mean_absolute_error did not improve from 0.76443\n",
            "Epoch 283/1000\n",
            "828/828 [==============================] - 2s 2ms/step - loss: 1.4356 - mean_absolute_error: 0.7711\n",
            "\n",
            "Epoch 00283: mean_absolute_error did not improve from 0.76443\n",
            "Epoch 284/1000\n",
            "828/828 [==============================] - 2s 2ms/step - loss: 1.3447 - mean_absolute_error: 0.7667\n",
            "\n",
            "Epoch 00284: mean_absolute_error did not improve from 0.76443\n",
            "Epoch 285/1000\n",
            "828/828 [==============================] - 2s 2ms/step - loss: 1.3313 - mean_absolute_error: 0.7603\n",
            "\n",
            "Epoch 00285: mean_absolute_error did not improve from 0.76443\n",
            "Epoch 286/1000\n",
            "828/828 [==============================] - 2s 2ms/step - loss: 1.3886 - mean_absolute_error: 0.7547\n",
            "\n",
            "Epoch 00286: mean_absolute_error improved from 0.76443 to 0.75170, saving model to model.h5\n",
            "Epoch 287/1000\n",
            "828/828 [==============================] - 2s 2ms/step - loss: 1.3812 - mean_absolute_error: 0.7819\n",
            "\n",
            "Epoch 00287: mean_absolute_error did not improve from 0.75170\n",
            "Epoch 288/1000\n",
            "828/828 [==============================] - 2s 2ms/step - loss: 1.3522 - mean_absolute_error: 0.7701\n",
            "\n",
            "Epoch 00288: mean_absolute_error did not improve from 0.75170\n",
            "Epoch 289/1000\n",
            "828/828 [==============================] - 2s 2ms/step - loss: 1.2864 - mean_absolute_error: 0.7546\n",
            "\n",
            "Epoch 00289: mean_absolute_error did not improve from 0.75170\n",
            "Epoch 290/1000\n",
            "828/828 [==============================] - 2s 2ms/step - loss: 1.2840 - mean_absolute_error: 0.7549\n",
            "\n",
            "Epoch 00290: mean_absolute_error did not improve from 0.75170\n",
            "Epoch 291/1000\n",
            "828/828 [==============================] - 2s 2ms/step - loss: 1.2788 - mean_absolute_error: 0.7468\n",
            "\n",
            "Epoch 00291: mean_absolute_error improved from 0.75170 to 0.74702, saving model to model.h5\n",
            "Epoch 292/1000\n",
            "828/828 [==============================] - 2s 2ms/step - loss: 1.2852 - mean_absolute_error: 0.7560\n",
            "\n",
            "Epoch 00292: mean_absolute_error did not improve from 0.74702\n",
            "Epoch 293/1000\n",
            "828/828 [==============================] - 2s 2ms/step - loss: 1.3162 - mean_absolute_error: 0.7627\n",
            "\n",
            "Epoch 00293: mean_absolute_error did not improve from 0.74702\n",
            "Epoch 294/1000\n",
            "828/828 [==============================] - 2s 2ms/step - loss: 1.2846 - mean_absolute_error: 0.7597\n",
            "\n",
            "Epoch 00294: mean_absolute_error did not improve from 0.74702\n",
            "Epoch 295/1000\n",
            "828/828 [==============================] - 2s 2ms/step - loss: 1.3361 - mean_absolute_error: 0.7649\n",
            "\n",
            "Epoch 00295: mean_absolute_error did not improve from 0.74702\n",
            "Epoch 296/1000\n",
            "828/828 [==============================] - 2s 2ms/step - loss: 1.3398 - mean_absolute_error: 0.7694\n",
            "\n",
            "Epoch 00296: mean_absolute_error did not improve from 0.74702\n",
            "Epoch 297/1000\n",
            "828/828 [==============================] - 2s 2ms/step - loss: 1.2960 - mean_absolute_error: 0.7546\n",
            "\n",
            "Epoch 00297: mean_absolute_error did not improve from 0.74702\n",
            "Epoch 298/1000\n",
            "828/828 [==============================] - 2s 2ms/step - loss: 1.3504 - mean_absolute_error: 0.7560\n",
            "\n",
            "Epoch 00298: mean_absolute_error did not improve from 0.74702\n",
            "Epoch 299/1000\n",
            "828/828 [==============================] - 2s 2ms/step - loss: 1.3739 - mean_absolute_error: 0.7543\n",
            "\n",
            "Epoch 00299: mean_absolute_error did not improve from 0.74702\n",
            "Epoch 300/1000\n",
            "828/828 [==============================] - 2s 2ms/step - loss: 1.3220 - mean_absolute_error: 0.7663\n",
            "\n",
            "Epoch 00300: mean_absolute_error did not improve from 0.74702\n",
            "Epoch 301/1000\n",
            "828/828 [==============================] - 2s 2ms/step - loss: 1.3536 - mean_absolute_error: 0.7577\n",
            "\n",
            "Epoch 00301: mean_absolute_error did not improve from 0.74702\n",
            "Epoch 302/1000\n",
            "828/828 [==============================] - 2s 2ms/step - loss: 1.3272 - mean_absolute_error: 0.7613\n",
            "\n",
            "Epoch 00302: mean_absolute_error did not improve from 0.74702\n",
            "Epoch 303/1000\n",
            "828/828 [==============================] - 2s 2ms/step - loss: 1.3103 - mean_absolute_error: 0.7604\n",
            "\n",
            "Epoch 00303: mean_absolute_error did not improve from 0.74702\n",
            "Epoch 304/1000\n",
            "828/828 [==============================] - 2s 2ms/step - loss: 1.3455 - mean_absolute_error: 0.7572\n",
            "\n",
            "Epoch 00304: mean_absolute_error did not improve from 0.74702\n",
            "Epoch 305/1000\n",
            "828/828 [==============================] - 2s 2ms/step - loss: 1.3642 - mean_absolute_error: 0.7668\n",
            "\n",
            "Epoch 00305: mean_absolute_error did not improve from 0.74702\n",
            "Epoch 306/1000\n",
            "828/828 [==============================] - 2s 2ms/step - loss: 1.3043 - mean_absolute_error: 0.7432\n",
            "\n",
            "Epoch 00306: mean_absolute_error did not improve from 0.74702\n",
            "Epoch 307/1000\n",
            "828/828 [==============================] - 2s 2ms/step - loss: 1.2830 - mean_absolute_error: 0.7556\n",
            "\n",
            "Epoch 00307: mean_absolute_error did not improve from 0.74702\n",
            "Epoch 308/1000\n",
            "828/828 [==============================] - 2s 2ms/step - loss: 1.2997 - mean_absolute_error: 0.7536\n",
            "\n",
            "Epoch 00308: mean_absolute_error did not improve from 0.74702\n",
            "Epoch 309/1000\n",
            "828/828 [==============================] - 2s 2ms/step - loss: 1.3594 - mean_absolute_error: 0.7666\n",
            "\n",
            "Epoch 00309: mean_absolute_error did not improve from 0.74702\n",
            "Epoch 310/1000\n",
            "828/828 [==============================] - 2s 2ms/step - loss: 1.3243 - mean_absolute_error: 0.7578\n",
            "\n",
            "Epoch 00310: mean_absolute_error did not improve from 0.74702\n",
            "Epoch 311/1000\n",
            "828/828 [==============================] - 2s 2ms/step - loss: 1.4137 - mean_absolute_error: 0.7753\n",
            "\n",
            "Epoch 00311: mean_absolute_error did not improve from 0.74702\n",
            "Epoch 312/1000\n",
            "828/828 [==============================] - 2s 2ms/step - loss: 1.3586 - mean_absolute_error: 0.7653\n",
            "\n",
            "Epoch 00312: mean_absolute_error did not improve from 0.74702\n",
            "Epoch 313/1000\n",
            "828/828 [==============================] - 2s 2ms/step - loss: 1.3048 - mean_absolute_error: 0.7568\n",
            "\n",
            "Epoch 00313: mean_absolute_error did not improve from 0.74702\n",
            "Epoch 314/1000\n",
            "828/828 [==============================] - 2s 2ms/step - loss: 1.3993 - mean_absolute_error: 0.7748\n",
            "\n",
            "Epoch 00314: mean_absolute_error did not improve from 0.74702\n",
            "Epoch 315/1000\n",
            "828/828 [==============================] - 2s 2ms/step - loss: 1.3671 - mean_absolute_error: 0.7508\n",
            "\n",
            "Epoch 00315: mean_absolute_error did not improve from 0.74702\n",
            "Epoch 316/1000\n",
            "828/828 [==============================] - 2s 2ms/step - loss: 1.2797 - mean_absolute_error: 0.7468\n",
            "\n",
            "Epoch 00316: mean_absolute_error did not improve from 0.74702\n",
            "Epoch 317/1000\n",
            "828/828 [==============================] - 2s 2ms/step - loss: 1.3028 - mean_absolute_error: 0.7632\n",
            "\n",
            "Epoch 00317: mean_absolute_error did not improve from 0.74702\n",
            "Epoch 318/1000\n",
            "828/828 [==============================] - 2s 2ms/step - loss: 1.3732 - mean_absolute_error: 0.7715\n",
            "\n",
            "Epoch 00318: mean_absolute_error did not improve from 0.74702\n",
            "Epoch 319/1000\n",
            "828/828 [==============================] - 2s 2ms/step - loss: 1.3295 - mean_absolute_error: 0.7539\n",
            "\n",
            "Epoch 00319: mean_absolute_error did not improve from 0.74702\n",
            "Epoch 320/1000\n",
            "828/828 [==============================] - 2s 2ms/step - loss: 1.2989 - mean_absolute_error: 0.7502\n",
            "\n",
            "Epoch 00320: mean_absolute_error did not improve from 0.74702\n",
            "Epoch 321/1000\n",
            "828/828 [==============================] - 2s 2ms/step - loss: 1.2941 - mean_absolute_error: 0.7484\n",
            "\n",
            "Epoch 00321: mean_absolute_error improved from 0.74702 to 0.74581, saving model to model.h5\n",
            "Epoch 322/1000\n",
            "828/828 [==============================] - 2s 2ms/step - loss: 1.3177 - mean_absolute_error: 0.7492\n",
            "\n",
            "Epoch 00322: mean_absolute_error did not improve from 0.74581\n",
            "Epoch 323/1000\n",
            "828/828 [==============================] - 2s 2ms/step - loss: 1.2852 - mean_absolute_error: 0.7535\n",
            "\n",
            "Epoch 00323: mean_absolute_error did not improve from 0.74581\n",
            "Epoch 324/1000\n",
            "828/828 [==============================] - 2s 2ms/step - loss: 1.2505 - mean_absolute_error: 0.7454\n",
            "\n",
            "Epoch 00324: mean_absolute_error improved from 0.74581 to 0.74471, saving model to model.h5\n",
            "Epoch 325/1000\n",
            "828/828 [==============================] - 2s 2ms/step - loss: 1.3462 - mean_absolute_error: 0.7681\n",
            "\n",
            "Epoch 00325: mean_absolute_error did not improve from 0.74471\n",
            "Epoch 326/1000\n",
            "828/828 [==============================] - 2s 2ms/step - loss: 1.2953 - mean_absolute_error: 0.7344\n",
            "\n",
            "Epoch 00326: mean_absolute_error improved from 0.74471 to 0.74413, saving model to model.h5\n",
            "Epoch 327/1000\n",
            "828/828 [==============================] - 2s 2ms/step - loss: 1.3625 - mean_absolute_error: 0.7523\n",
            "\n",
            "Epoch 00327: mean_absolute_error did not improve from 0.74413\n",
            "Epoch 328/1000\n",
            "828/828 [==============================] - 2s 2ms/step - loss: 1.3232 - mean_absolute_error: 0.7530\n",
            "\n",
            "Epoch 00328: mean_absolute_error did not improve from 0.74413\n",
            "Epoch 329/1000\n",
            "828/828 [==============================] - 2s 2ms/step - loss: 1.2983 - mean_absolute_error: 0.7399\n",
            "\n",
            "Epoch 00329: mean_absolute_error improved from 0.74413 to 0.73743, saving model to model.h5\n",
            "Epoch 330/1000\n",
            "828/828 [==============================] - 2s 2ms/step - loss: 1.2942 - mean_absolute_error: 0.7423\n",
            "\n",
            "Epoch 00330: mean_absolute_error did not improve from 0.73743\n",
            "Epoch 331/1000\n",
            "828/828 [==============================] - 2s 2ms/step - loss: 1.3277 - mean_absolute_error: 0.7403\n",
            "\n",
            "Epoch 00331: mean_absolute_error did not improve from 0.73743\n",
            "Epoch 332/1000\n",
            "828/828 [==============================] - 2s 2ms/step - loss: 1.4216 - mean_absolute_error: 0.7735\n",
            "\n",
            "Epoch 00332: mean_absolute_error did not improve from 0.73743\n",
            "Epoch 333/1000\n",
            "828/828 [==============================] - 2s 2ms/step - loss: 1.2323 - mean_absolute_error: 0.7401\n",
            "\n",
            "Epoch 00333: mean_absolute_error did not improve from 0.73743\n",
            "Epoch 334/1000\n",
            "828/828 [==============================] - 2s 2ms/step - loss: 1.3250 - mean_absolute_error: 0.7436\n",
            "\n",
            "Epoch 00334: mean_absolute_error did not improve from 0.73743\n",
            "Epoch 335/1000\n",
            "828/828 [==============================] - 2s 2ms/step - loss: 1.3179 - mean_absolute_error: 0.7466\n",
            "\n",
            "Epoch 00335: mean_absolute_error did not improve from 0.73743\n",
            "Epoch 336/1000\n",
            "828/828 [==============================] - 2s 2ms/step - loss: 1.3307 - mean_absolute_error: 0.7528\n",
            "\n",
            "Epoch 00336: mean_absolute_error did not improve from 0.73743\n",
            "Epoch 337/1000\n",
            "828/828 [==============================] - 2s 2ms/step - loss: 1.2774 - mean_absolute_error: 0.7438\n",
            "\n",
            "Epoch 00337: mean_absolute_error improved from 0.73743 to 0.73664, saving model to model.h5\n",
            "Epoch 338/1000\n",
            "828/828 [==============================] - 2s 2ms/step - loss: 1.3106 - mean_absolute_error: 0.7434\n",
            "\n",
            "Epoch 00338: mean_absolute_error did not improve from 0.73664\n",
            "Epoch 339/1000\n",
            "828/828 [==============================] - 2s 2ms/step - loss: 1.3445 - mean_absolute_error: 0.7664\n",
            "\n",
            "Epoch 00339: mean_absolute_error did not improve from 0.73664\n",
            "Epoch 340/1000\n",
            "828/828 [==============================] - 2s 2ms/step - loss: 1.3528 - mean_absolute_error: 0.7503\n",
            "\n",
            "Epoch 00340: mean_absolute_error did not improve from 0.73664\n",
            "Epoch 341/1000\n",
            "828/828 [==============================] - 2s 2ms/step - loss: 1.2833 - mean_absolute_error: 0.7394\n",
            "\n",
            "Epoch 00341: mean_absolute_error did not improve from 0.73664\n",
            "Epoch 342/1000\n",
            "828/828 [==============================] - 2s 2ms/step - loss: 1.3041 - mean_absolute_error: 0.7534\n",
            "\n",
            "Epoch 00342: mean_absolute_error did not improve from 0.73664\n",
            "Epoch 343/1000\n",
            "828/828 [==============================] - 2s 2ms/step - loss: 1.3380 - mean_absolute_error: 0.7487\n",
            "\n",
            "Epoch 00343: mean_absolute_error did not improve from 0.73664\n",
            "Epoch 344/1000\n",
            "828/828 [==============================] - 2s 2ms/step - loss: 1.3667 - mean_absolute_error: 0.7667\n",
            "\n",
            "Epoch 00344: mean_absolute_error did not improve from 0.73664\n",
            "Epoch 345/1000\n",
            "828/828 [==============================] - 2s 2ms/step - loss: 1.2948 - mean_absolute_error: 0.7341\n",
            "\n",
            "Epoch 00345: mean_absolute_error did not improve from 0.73664\n",
            "Epoch 346/1000\n",
            "828/828 [==============================] - 2s 2ms/step - loss: 1.2725 - mean_absolute_error: 0.7443\n",
            "\n",
            "Epoch 00346: mean_absolute_error did not improve from 0.73664\n",
            "Epoch 347/1000\n",
            "828/828 [==============================] - 2s 2ms/step - loss: 1.2939 - mean_absolute_error: 0.7511\n",
            "\n",
            "Epoch 00347: mean_absolute_error did not improve from 0.73664\n",
            "Epoch 348/1000\n",
            "828/828 [==============================] - 2s 2ms/step - loss: 1.3043 - mean_absolute_error: 0.7441\n",
            "\n",
            "Epoch 00348: mean_absolute_error did not improve from 0.73664\n",
            "Epoch 349/1000\n",
            "828/828 [==============================] - 2s 2ms/step - loss: 1.3773 - mean_absolute_error: 0.7412\n",
            "\n",
            "Epoch 00349: mean_absolute_error did not improve from 0.73664\n",
            "Epoch 350/1000\n",
            "828/828 [==============================] - 2s 2ms/step - loss: 1.3382 - mean_absolute_error: 0.7439\n",
            "\n",
            "Epoch 00350: mean_absolute_error did not improve from 0.73664\n",
            "Epoch 351/1000\n",
            "828/828 [==============================] - 2s 2ms/step - loss: 1.4010 - mean_absolute_error: 0.7794\n",
            "\n",
            "Epoch 00351: mean_absolute_error did not improve from 0.73664\n",
            "Epoch 352/1000\n",
            "828/828 [==============================] - 2s 2ms/step - loss: 1.3355 - mean_absolute_error: 0.7415\n",
            "\n",
            "Epoch 00352: mean_absolute_error did not improve from 0.73664\n",
            "Epoch 353/1000\n",
            "828/828 [==============================] - 2s 2ms/step - loss: 1.3079 - mean_absolute_error: 0.7414\n",
            "\n",
            "Epoch 00353: mean_absolute_error did not improve from 0.73664\n",
            "Epoch 354/1000\n",
            "828/828 [==============================] - 2s 2ms/step - loss: 1.3118 - mean_absolute_error: 0.7603\n",
            "\n",
            "Epoch 00354: mean_absolute_error did not improve from 0.73664\n",
            "Epoch 355/1000\n",
            "828/828 [==============================] - 2s 2ms/step - loss: 1.2518 - mean_absolute_error: 0.7334\n",
            "\n",
            "Epoch 00355: mean_absolute_error improved from 0.73664 to 0.73638, saving model to model.h5\n",
            "Epoch 356/1000\n",
            "828/828 [==============================] - 2s 2ms/step - loss: 1.2930 - mean_absolute_error: 0.7398\n",
            "\n",
            "Epoch 00356: mean_absolute_error did not improve from 0.73638\n",
            "Epoch 357/1000\n",
            "828/828 [==============================] - 2s 2ms/step - loss: 1.3061 - mean_absolute_error: 0.7365\n",
            "\n",
            "Epoch 00357: mean_absolute_error improved from 0.73638 to 0.73171, saving model to model.h5\n",
            "Epoch 358/1000\n",
            "828/828 [==============================] - 2s 2ms/step - loss: 1.3023 - mean_absolute_error: 0.7372\n",
            "\n",
            "Epoch 00358: mean_absolute_error did not improve from 0.73171\n",
            "Epoch 359/1000\n",
            "828/828 [==============================] - 2s 2ms/step - loss: 1.3393 - mean_absolute_error: 0.7429\n",
            "\n",
            "Epoch 00359: mean_absolute_error did not improve from 0.73171\n",
            "Epoch 360/1000\n",
            "828/828 [==============================] - 2s 2ms/step - loss: 1.2776 - mean_absolute_error: 0.7525\n",
            "\n",
            "Epoch 00360: mean_absolute_error did not improve from 0.73171\n",
            "Epoch 361/1000\n",
            "828/828 [==============================] - 2s 2ms/step - loss: 1.3421 - mean_absolute_error: 0.7627\n",
            "\n",
            "Epoch 00361: mean_absolute_error did not improve from 0.73171\n",
            "Epoch 362/1000\n",
            "828/828 [==============================] - 2s 2ms/step - loss: 1.2202 - mean_absolute_error: 0.7305\n",
            "\n",
            "Epoch 00362: mean_absolute_error did not improve from 0.73171\n",
            "Epoch 363/1000\n",
            "828/828 [==============================] - 2s 2ms/step - loss: 1.3275 - mean_absolute_error: 0.7451\n",
            "\n",
            "Epoch 00363: mean_absolute_error did not improve from 0.73171\n",
            "Epoch 364/1000\n",
            "828/828 [==============================] - 2s 2ms/step - loss: 1.3115 - mean_absolute_error: 0.7494\n",
            "\n",
            "Epoch 00364: mean_absolute_error did not improve from 0.73171\n",
            "Epoch 365/1000\n",
            "828/828 [==============================] - 2s 2ms/step - loss: 1.3286 - mean_absolute_error: 0.7472\n",
            "\n",
            "Epoch 00365: mean_absolute_error did not improve from 0.73171\n",
            "Epoch 366/1000\n",
            "828/828 [==============================] - 2s 2ms/step - loss: 1.2967 - mean_absolute_error: 0.7476\n",
            "\n",
            "Epoch 00366: mean_absolute_error did not improve from 0.73171\n",
            "Epoch 367/1000\n",
            "828/828 [==============================] - 2s 2ms/step - loss: 1.2721 - mean_absolute_error: 0.7530\n",
            "\n",
            "Epoch 00367: mean_absolute_error did not improve from 0.73171\n",
            "Epoch 368/1000\n",
            "828/828 [==============================] - 2s 2ms/step - loss: 1.2488 - mean_absolute_error: 0.7417\n",
            "\n",
            "Epoch 00368: mean_absolute_error did not improve from 0.73171\n",
            "Epoch 369/1000\n",
            "828/828 [==============================] - 2s 2ms/step - loss: 1.2941 - mean_absolute_error: 0.7397\n",
            "\n",
            "Epoch 00369: mean_absolute_error did not improve from 0.73171\n",
            "Epoch 370/1000\n",
            "828/828 [==============================] - 2s 2ms/step - loss: 1.2242 - mean_absolute_error: 0.7426\n",
            "\n",
            "Epoch 00370: mean_absolute_error did not improve from 0.73171\n",
            "Epoch 371/1000\n",
            "828/828 [==============================] - 2s 2ms/step - loss: 1.2201 - mean_absolute_error: 0.7305\n",
            "\n",
            "Epoch 00371: mean_absolute_error did not improve from 0.73171\n",
            "Epoch 372/1000\n",
            "828/828 [==============================] - 2s 2ms/step - loss: 1.3272 - mean_absolute_error: 0.7537\n",
            "\n",
            "Epoch 00372: mean_absolute_error did not improve from 0.73171\n",
            "Epoch 373/1000\n",
            "828/828 [==============================] - 2s 2ms/step - loss: 1.2816 - mean_absolute_error: 0.7297\n",
            "\n",
            "Epoch 00373: mean_absolute_error did not improve from 0.73171\n",
            "Epoch 374/1000\n",
            "828/828 [==============================] - 2s 2ms/step - loss: 1.2492 - mean_absolute_error: 0.7270\n",
            "\n",
            "Epoch 00374: mean_absolute_error did not improve from 0.73171\n",
            "Epoch 375/1000\n",
            "828/828 [==============================] - 2s 2ms/step - loss: 1.3369 - mean_absolute_error: 0.7224\n",
            "\n",
            "Epoch 00375: mean_absolute_error improved from 0.73171 to 0.72357, saving model to model.h5\n",
            "Epoch 376/1000\n",
            "828/828 [==============================] - 2s 2ms/step - loss: 1.3451 - mean_absolute_error: 0.7568\n",
            "\n",
            "Epoch 00376: mean_absolute_error did not improve from 0.72357\n",
            "Epoch 377/1000\n",
            "828/828 [==============================] - 2s 2ms/step - loss: 1.2389 - mean_absolute_error: 0.7325\n",
            "\n",
            "Epoch 00377: mean_absolute_error did not improve from 0.72357\n",
            "Epoch 378/1000\n",
            "828/828 [==============================] - 2s 2ms/step - loss: 1.3232 - mean_absolute_error: 0.7596\n",
            "\n",
            "Epoch 00378: mean_absolute_error did not improve from 0.72357\n",
            "Epoch 379/1000\n",
            "828/828 [==============================] - 2s 2ms/step - loss: 1.2710 - mean_absolute_error: 0.7492\n",
            "\n",
            "Epoch 00379: mean_absolute_error did not improve from 0.72357\n",
            "Epoch 380/1000\n",
            "828/828 [==============================] - 2s 2ms/step - loss: 1.2991 - mean_absolute_error: 0.7559\n",
            "\n",
            "Epoch 00380: mean_absolute_error did not improve from 0.72357\n",
            "Epoch 381/1000\n",
            "828/828 [==============================] - 2s 2ms/step - loss: 1.3117 - mean_absolute_error: 0.7410\n",
            "\n",
            "Epoch 00381: mean_absolute_error did not improve from 0.72357\n",
            "Epoch 382/1000\n",
            "828/828 [==============================] - 2s 2ms/step - loss: 1.2915 - mean_absolute_error: 0.7565\n",
            "\n",
            "Epoch 00382: mean_absolute_error did not improve from 0.72357\n",
            "Epoch 383/1000\n",
            "828/828 [==============================] - 2s 2ms/step - loss: 1.3475 - mean_absolute_error: 0.7515\n",
            "\n",
            "Epoch 00383: mean_absolute_error did not improve from 0.72357\n",
            "Epoch 384/1000\n",
            "828/828 [==============================] - 2s 2ms/step - loss: 1.3186 - mean_absolute_error: 0.7318\n",
            "\n",
            "Epoch 00384: mean_absolute_error did not improve from 0.72357\n",
            "Epoch 385/1000\n",
            "828/828 [==============================] - 2s 2ms/step - loss: 1.2532 - mean_absolute_error: 0.7251\n",
            "\n",
            "Epoch 00385: mean_absolute_error did not improve from 0.72357\n",
            "Epoch 386/1000\n",
            "828/828 [==============================] - 2s 2ms/step - loss: 1.3204 - mean_absolute_error: 0.7418\n",
            "\n",
            "Epoch 00386: mean_absolute_error did not improve from 0.72357\n",
            "Epoch 387/1000\n",
            "828/828 [==============================] - 2s 2ms/step - loss: 1.2888 - mean_absolute_error: 0.7446\n",
            "\n",
            "Epoch 00387: mean_absolute_error did not improve from 0.72357\n",
            "Epoch 388/1000\n",
            "828/828 [==============================] - 2s 2ms/step - loss: 1.2661 - mean_absolute_error: 0.7453\n",
            "\n",
            "Epoch 00388: mean_absolute_error did not improve from 0.72357\n",
            "Epoch 389/1000\n",
            "828/828 [==============================] - 2s 2ms/step - loss: 1.2721 - mean_absolute_error: 0.7400\n",
            "\n",
            "Epoch 00389: mean_absolute_error did not improve from 0.72357\n",
            "Epoch 390/1000\n",
            "828/828 [==============================] - 2s 2ms/step - loss: 1.3438 - mean_absolute_error: 0.7560\n",
            "\n",
            "Epoch 00390: mean_absolute_error did not improve from 0.72357\n",
            "Epoch 391/1000\n",
            "828/828 [==============================] - 2s 2ms/step - loss: 1.3416 - mean_absolute_error: 0.7522\n",
            "\n",
            "Epoch 00391: mean_absolute_error did not improve from 0.72357\n",
            "Epoch 392/1000\n",
            "828/828 [==============================] - 2s 2ms/step - loss: 1.3996 - mean_absolute_error: 0.7684\n",
            "\n",
            "Epoch 00392: mean_absolute_error did not improve from 0.72357\n",
            "Epoch 393/1000\n",
            "828/828 [==============================] - 2s 2ms/step - loss: 1.3171 - mean_absolute_error: 0.7412\n",
            "\n",
            "Epoch 00393: mean_absolute_error did not improve from 0.72357\n",
            "Epoch 394/1000\n",
            "828/828 [==============================] - 2s 2ms/step - loss: 1.3387 - mean_absolute_error: 0.7541\n",
            "\n",
            "Epoch 00394: mean_absolute_error did not improve from 0.72357\n",
            "Epoch 395/1000\n",
            "828/828 [==============================] - 2s 2ms/step - loss: 1.2413 - mean_absolute_error: 0.7216\n",
            "\n",
            "Epoch 00395: mean_absolute_error did not improve from 0.72357\n",
            "Epoch 396/1000\n",
            "828/828 [==============================] - 2s 2ms/step - loss: 1.3120 - mean_absolute_error: 0.7516\n",
            "\n",
            "Epoch 00396: mean_absolute_error did not improve from 0.72357\n",
            "Epoch 397/1000\n",
            "828/828 [==============================] - 2s 2ms/step - loss: 1.2676 - mean_absolute_error: 0.7355\n",
            "\n",
            "Epoch 00397: mean_absolute_error did not improve from 0.72357\n",
            "Epoch 398/1000\n",
            "828/828 [==============================] - 2s 2ms/step - loss: 1.3151 - mean_absolute_error: 0.7372\n",
            "\n",
            "Epoch 00398: mean_absolute_error did not improve from 0.72357\n",
            "Epoch 399/1000\n",
            "828/828 [==============================] - 2s 2ms/step - loss: 1.2940 - mean_absolute_error: 0.7472\n",
            "\n",
            "Epoch 00399: mean_absolute_error did not improve from 0.72357\n",
            "Epoch 400/1000\n",
            "828/828 [==============================] - 2s 2ms/step - loss: 1.2987 - mean_absolute_error: 0.7439\n",
            "\n",
            "Epoch 00400: mean_absolute_error did not improve from 0.72357\n",
            "Epoch 401/1000\n",
            "828/828 [==============================] - 2s 2ms/step - loss: 1.3787 - mean_absolute_error: 0.7648\n",
            "\n",
            "Epoch 00401: mean_absolute_error did not improve from 0.72357\n",
            "Epoch 402/1000\n",
            "828/828 [==============================] - 2s 2ms/step - loss: 1.3594 - mean_absolute_error: 0.7532\n",
            "\n",
            "Epoch 00402: mean_absolute_error did not improve from 0.72357\n",
            "Epoch 403/1000\n",
            "828/828 [==============================] - 2s 2ms/step - loss: 1.2926 - mean_absolute_error: 0.7428\n",
            "\n",
            "Epoch 00403: mean_absolute_error did not improve from 0.72357\n",
            "Epoch 404/1000\n",
            "828/828 [==============================] - 2s 2ms/step - loss: 1.3222 - mean_absolute_error: 0.7628\n",
            "\n",
            "Epoch 00404: mean_absolute_error did not improve from 0.72357\n",
            "Epoch 405/1000\n",
            "828/828 [==============================] - 2s 2ms/step - loss: 1.2886 - mean_absolute_error: 0.7282\n",
            "\n",
            "Epoch 00405: mean_absolute_error did not improve from 0.72357\n",
            "Epoch 406/1000\n",
            "828/828 [==============================] - 2s 2ms/step - loss: 1.2401 - mean_absolute_error: 0.7318\n",
            "\n",
            "Epoch 00406: mean_absolute_error did not improve from 0.72357\n",
            "Epoch 407/1000\n",
            "828/828 [==============================] - 2s 2ms/step - loss: 1.3160 - mean_absolute_error: 0.7377\n",
            "\n",
            "Epoch 00407: mean_absolute_error did not improve from 0.72357\n",
            "Epoch 408/1000\n",
            "828/828 [==============================] - 2s 2ms/step - loss: 1.2925 - mean_absolute_error: 0.7373\n",
            "\n",
            "Epoch 00408: mean_absolute_error did not improve from 0.72357\n",
            "Epoch 409/1000\n",
            "828/828 [==============================] - 2s 2ms/step - loss: 1.3575 - mean_absolute_error: 0.7462\n",
            "\n",
            "Epoch 00409: mean_absolute_error did not improve from 0.72357\n",
            "Epoch 410/1000\n",
            "828/828 [==============================] - 2s 2ms/step - loss: 1.2804 - mean_absolute_error: 0.7398\n",
            "\n",
            "Epoch 00410: mean_absolute_error did not improve from 0.72357\n",
            "Epoch 411/1000\n",
            "828/828 [==============================] - 2s 2ms/step - loss: 1.2489 - mean_absolute_error: 0.7348\n",
            "\n",
            "Epoch 00411: mean_absolute_error did not improve from 0.72357\n",
            "Epoch 412/1000\n",
            "828/828 [==============================] - 2s 2ms/step - loss: 1.2798 - mean_absolute_error: 0.7265\n",
            "\n",
            "Epoch 00412: mean_absolute_error did not improve from 0.72357\n",
            "Epoch 413/1000\n",
            "828/828 [==============================] - 2s 2ms/step - loss: 1.3232 - mean_absolute_error: 0.7429\n",
            "\n",
            "Epoch 00413: mean_absolute_error did not improve from 0.72357\n",
            "Epoch 414/1000\n",
            "828/828 [==============================] - 2s 2ms/step - loss: 1.2809 - mean_absolute_error: 0.7287\n",
            "\n",
            "Epoch 00414: mean_absolute_error did not improve from 0.72357\n",
            "Epoch 415/1000\n",
            "828/828 [==============================] - 2s 2ms/step - loss: 1.2681 - mean_absolute_error: 0.7355\n",
            "\n",
            "Epoch 00415: mean_absolute_error did not improve from 0.72357\n",
            "Epoch 416/1000\n",
            "828/828 [==============================] - 2s 2ms/step - loss: 1.3276 - mean_absolute_error: 0.7492\n",
            "\n",
            "Epoch 00416: mean_absolute_error did not improve from 0.72357\n",
            "Epoch 417/1000\n",
            "828/828 [==============================] - 2s 2ms/step - loss: 1.3243 - mean_absolute_error: 0.7363\n",
            "\n",
            "Epoch 00417: mean_absolute_error did not improve from 0.72357\n",
            "Epoch 418/1000\n",
            "828/828 [==============================] - 2s 2ms/step - loss: 1.2641 - mean_absolute_error: 0.7357\n",
            "\n",
            "Epoch 00418: mean_absolute_error did not improve from 0.72357\n",
            "Epoch 419/1000\n",
            "828/828 [==============================] - 2s 2ms/step - loss: 1.2420 - mean_absolute_error: 0.7294\n",
            "\n",
            "Epoch 00419: mean_absolute_error did not improve from 0.72357\n",
            "Epoch 420/1000\n",
            "828/828 [==============================] - 2s 2ms/step - loss: 1.3484 - mean_absolute_error: 0.7514\n",
            "\n",
            "Epoch 00420: mean_absolute_error did not improve from 0.72357\n",
            "Epoch 421/1000\n",
            "828/828 [==============================] - 2s 2ms/step - loss: 1.2869 - mean_absolute_error: 0.7408\n",
            "\n",
            "Epoch 00421: mean_absolute_error did not improve from 0.72357\n",
            "Epoch 422/1000\n",
            "828/828 [==============================] - 2s 2ms/step - loss: 1.2444 - mean_absolute_error: 0.7328\n",
            "\n",
            "Epoch 00422: mean_absolute_error did not improve from 0.72357\n",
            "Epoch 423/1000\n",
            "828/828 [==============================] - 2s 2ms/step - loss: 1.2800 - mean_absolute_error: 0.7357\n",
            "\n",
            "Epoch 00423: mean_absolute_error did not improve from 0.72357\n",
            "Epoch 424/1000\n",
            "828/828 [==============================] - 2s 2ms/step - loss: 1.3005 - mean_absolute_error: 0.7504\n",
            "\n",
            "Epoch 00424: mean_absolute_error did not improve from 0.72357\n",
            "Epoch 425/1000\n",
            "828/828 [==============================] - 2s 2ms/step - loss: 1.2965 - mean_absolute_error: 0.7516\n",
            "\n",
            "Epoch 00425: mean_absolute_error did not improve from 0.72357\n"
          ],
          "name": "stdout"
        }
      ]
    },
    {
      "cell_type": "markdown",
      "metadata": {
        "id": "8xiTcQ3IgPRw"
      },
      "source": [
        "# Invoke TensorBoard"
      ]
    },
    {
      "cell_type": "code",
      "metadata": {
        "id": "Yllz43vAgLAo"
      },
      "source": [
        "# Load the TensorBoard notebook extension \r\n",
        "# https://stackoverflow.com/questions/55970686/tensorboard-not-found-as-magic-function-in-jupyter\r\n",
        "\r\n",
        "%load_ext tensorboard\r\n",
        "\r\n",
        "%tensorboard --logdir logs"
      ],
      "execution_count": null,
      "outputs": []
    },
    {
      "cell_type": "markdown",
      "metadata": {
        "id": "PAmRDeFMhxC2"
      },
      "source": [
        "# Model evaluation"
      ]
    },
    {
      "cell_type": "code",
      "metadata": {
        "colab": {
          "base_uri": "https://localhost:8080/"
        },
        "id": "9ddzQCMmh922",
        "outputId": "07c55a0d-1301-433a-b017-4c33de92ecc1"
      },
      "source": [
        "model.evaluate(train, train, verbose=1)"
      ],
      "execution_count": null,
      "outputs": [
        {
          "output_type": "stream",
          "text": [
            "3311/3311 [==============================] - 3s 915us/step - loss: 1.3882 - mean_absolute_error: 0.8545\n"
          ],
          "name": "stdout"
        },
        {
          "output_type": "execute_result",
          "data": {
            "text/plain": [
              "[1.3881856203079224, 0.8545196056365967]"
            ]
          },
          "metadata": {
            "tags": []
          },
          "execution_count": 37
        }
      ]
    },
    {
      "cell_type": "markdown",
      "metadata": {
        "id": "u56dqfSijoWj"
      },
      "source": [
        "# Model Prediction"
      ]
    },
    {
      "cell_type": "code",
      "metadata": {
        "id": "Ou63muQHio-b"
      },
      "source": [
        "predictions = model.predict(test.values)"
      ],
      "execution_count": null,
      "outputs": []
    },
    {
      "cell_type": "code",
      "metadata": {
        "colab": {
          "base_uri": "https://localhost:8080/"
        },
        "id": "9a17J0L4jP6m",
        "outputId": "033edf39-1bb5-44fd-8423-b4db6e0f6daf"
      },
      "source": [
        "predictions"
      ],
      "execution_count": null,
      "outputs": [
        {
          "output_type": "execute_result",
          "data": {
            "text/plain": [
              "array([[107.01834 ],\n",
              "       [103.42011 ],\n",
              "       [101.84004 ],\n",
              "       ...,\n",
              "       [109.461464],\n",
              "       [100.004265],\n",
              "       [103.42011 ]], dtype=float32)"
            ]
          },
          "metadata": {
            "tags": []
          },
          "execution_count": 39
        }
      ]
    },
    {
      "cell_type": "code",
      "metadata": {
        "colab": {
          "base_uri": "https://localhost:8080/"
        },
        "id": "PKiC8xxAjjMh",
        "outputId": "b5b65850-c1d0-4a2f-9af7-7f522ba17710"
      },
      "source": [
        "predictions.shape"
      ],
      "execution_count": null,
      "outputs": [
        {
          "output_type": "execute_result",
          "data": {
            "text/plain": [
              "(26486, 1)"
            ]
          },
          "metadata": {
            "tags": []
          },
          "execution_count": 40
        }
      ]
    },
    {
      "cell_type": "code",
      "metadata": {
        "colab": {
          "base_uri": "https://localhost:8080/"
        },
        "id": "wMLT2n00j0Vc",
        "outputId": "4c456c24-959b-4574-d42b-752ca36e9930"
      },
      "source": [
        "test.shape"
      ],
      "execution_count": null,
      "outputs": [
        {
          "output_type": "execute_result",
          "data": {
            "text/plain": [
              "(26486, 1)"
            ]
          },
          "metadata": {
            "tags": []
          },
          "execution_count": 41
        }
      ]
    },
    {
      "cell_type": "code",
      "metadata": {
        "id": "8RrltZiIj_X2"
      },
      "source": [
        "# create a df_final dataframe  \r\n",
        "df_final = test"
      ],
      "execution_count": null,
      "outputs": []
    },
    {
      "cell_type": "code",
      "metadata": {
        "id": "ZIBrfvOfkPrx"
      },
      "source": [
        "df_final.columns = ['Occ_Actual']"
      ],
      "execution_count": null,
      "outputs": []
    },
    {
      "cell_type": "code",
      "metadata": {
        "id": "_iguAJkxkvJ3",
        "colab": {
          "base_uri": "https://localhost:8080/"
        },
        "outputId": "4cc18a6e-74f5-4b46-ceea-2c4477346e5c"
      },
      "source": [
        "# Add one more column ('Occ_predicted')  to df_final \r\n",
        "df_final['Occ_Predicted'] = predictions"
      ],
      "execution_count": null,
      "outputs": [
        {
          "output_type": "stream",
          "text": [
            "/usr/local/lib/python3.6/dist-packages/ipykernel_launcher.py:2: SettingWithCopyWarning: \n",
            "A value is trying to be set on a copy of a slice from a DataFrame.\n",
            "Try using .loc[row_indexer,col_indexer] = value instead\n",
            "\n",
            "See the caveats in the documentation: https://pandas.pydata.org/pandas-docs/stable/user_guide/indexing.html#returning-a-view-versus-a-copy\n",
            "  \n"
          ],
          "name": "stderr"
        }
      ]
    },
    {
      "cell_type": "code",
      "metadata": {
        "colab": {
          "base_uri": "https://localhost:8080/",
          "height": 195
        },
        "id": "uNbl6McQlHkE",
        "outputId": "31aecfd5-51f4-4104-952b-de83f2b8d0e1"
      },
      "source": [
        "df_final.head()"
      ],
      "execution_count": null,
      "outputs": [
        {
          "output_type": "execute_result",
          "data": {
            "text/html": [
              "<div>\n",
              "<style scoped>\n",
              "    .dataframe tbody tr th:only-of-type {\n",
              "        vertical-align: middle;\n",
              "    }\n",
              "\n",
              "    .dataframe tbody tr th {\n",
              "        vertical-align: top;\n",
              "    }\n",
              "\n",
              "    .dataframe thead th {\n",
              "        text-align: right;\n",
              "    }\n",
              "</style>\n",
              "<table border=\"1\" class=\"dataframe\">\n",
              "  <thead>\n",
              "    <tr style=\"text-align: right;\">\n",
              "      <th></th>\n",
              "      <th>Occ_Actual</th>\n",
              "      <th>Occ_Predicted</th>\n",
              "    </tr>\n",
              "  </thead>\n",
              "  <tbody>\n",
              "    <tr>\n",
              "      <th>196770</th>\n",
              "      <td>108</td>\n",
              "      <td>107.018341</td>\n",
              "    </tr>\n",
              "    <tr>\n",
              "      <th>196772</th>\n",
              "      <td>104</td>\n",
              "      <td>103.420113</td>\n",
              "    </tr>\n",
              "    <tr>\n",
              "      <th>196773</th>\n",
              "      <td>102</td>\n",
              "      <td>101.840042</td>\n",
              "    </tr>\n",
              "    <tr>\n",
              "      <th>196775</th>\n",
              "      <td>98</td>\n",
              "      <td>98.025551</td>\n",
              "    </tr>\n",
              "    <tr>\n",
              "      <th>196778</th>\n",
              "      <td>113</td>\n",
              "      <td>111.087288</td>\n",
              "    </tr>\n",
              "  </tbody>\n",
              "</table>\n",
              "</div>"
            ],
            "text/plain": [
              "        Occ_Actual  Occ_Predicted\n",
              "196770         108     107.018341\n",
              "196772         104     103.420113\n",
              "196773         102     101.840042\n",
              "196775          98      98.025551\n",
              "196778         113     111.087288"
            ]
          },
          "metadata": {
            "tags": []
          },
          "execution_count": 45
        }
      ]
    },
    {
      "cell_type": "markdown",
      "metadata": {
        "id": "M3VG0jZGlNVk"
      },
      "source": [
        "Plotting"
      ]
    },
    {
      "cell_type": "code",
      "metadata": {
        "colab": {
          "base_uri": "https://localhost:8080/",
          "height": 282
        },
        "id": "7tbgqoDIlQEM",
        "outputId": "7641aabc-076b-4bba-c634-323673ea0536"
      },
      "source": [
        "#df_final[['Occ_Actual','Occ_Predicted']].plot()\r\n",
        "df_final[['Occ_Actual','Occ_Predicted']][0:99].plot()"
      ],
      "execution_count": null,
      "outputs": [
        {
          "output_type": "execute_result",
          "data": {
            "text/plain": [
              "<matplotlib.axes._subplots.AxesSubplot at 0x7f705d05d208>"
            ]
          },
          "metadata": {
            "tags": []
          },
          "execution_count": 50
        },
        {
          "output_type": "display_data",
          "data": {
            "image/png": "[encoded data removed]",
            "text/plain": [
              "<Figure size 432x288 with 1 Axes>"
            ]
          },
          "metadata": {
            "tags": [],
            "needs_background": "light"
          }
        }
      ]
    }
  ]
}